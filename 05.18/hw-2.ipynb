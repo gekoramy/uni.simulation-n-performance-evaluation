{
 "cells": [
  {
   "cell_type": "markdown",
   "metadata": {},
   "source": [
    "|        |         |                                @ |\n",
    "|:-------|:--------|---------------------------------:|\n",
    "| Luca   | Mosetti | luca.mosetti-1@studenti.unitn.it |\n",
    "| Shandy | Darma   |   shandy.darma@studenti.unitn.it |"
   ]
  },
  {
   "cell_type": "markdown",
   "metadata": {},
   "source": [
    "# Exercise 2\n",
    "\n",
    "1. Repeat exercise 1 for an $\\text M/\\text M/c/K$ system where\n",
    "\n",
    "    - there are $c$ servers (start with $c = 2$, then test for larger values if time allows);\n",
    "    - the queue of each server can hold up to $K$ packets (start with some easy number such as $K = 10$): this means that a server having $K$ packets in queue would discard any other packets assigned to it.\n",
    "\n",
    "2. Experiment with simple packet assignment policies (round-robin, least-loaded servers first, ...) as well as with policies that consider the occupancy of the queue of the servers (e.g., avoid sending packets to servers that have a full queue, or to a queue that is more than $x\\%$ full, for some $x$).\n",
    "\n",
    "3. For each policy, plot a histogram showing the number of packets served by each of the $c$ servers, as well as the average distribution of the queuing delay experienced by each packet. You can show other metrics as needed."
   ]
  }
 ],
 "metadata": {
  "language_info": {
   "name": "python"
  }
 },
 "nbformat": 4,
 "nbformat_minor": 0
}
