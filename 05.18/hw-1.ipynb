{
 "cells": [
  {
   "cell_type": "markdown",
   "source": [
    "|        |         |                                @ |\n",
    "|:-------|:--------|---------------------------------:|\n",
    "| Luca   | Mosetti | luca.mosetti-1@studenti.unitn.it |\n",
    "| Shandy | Darma   |   shandy.darma@studenti.unitn.it |"
   ],
   "metadata": {
    "collapsed": false
   }
  },
  {
   "cell_type": "code",
   "execution_count": null,
   "metadata": {
    "collapsed": true,
    "ExecuteTime": {
     "start_time": "2023-05-14T13:35:10.152927Z",
     "end_time": "2023-05-14T13:35:10.858255Z"
    }
   },
   "outputs": [],
   "source": [
    "from dataclasses import dataclass\n",
    "from enum import IntEnum, auto\n",
    "from typing import Iterator, SupportsFloat\n",
    "from matplotlib_inline.backend_inline import set_matplotlib_formats\n",
    "from numpy.typing import NDArray\n",
    "\n",
    "import doctest\n",
    "import math\n",
    "import heapq as hq\n",
    "import itertools as it\n",
    "import statistics as st\n",
    "import matplotlib.pyplot as plt\n",
    "import more_itertools as mit\n",
    "import numpy as np\n",
    "import scipy as sp"
   ]
  },
  {
   "cell_type": "code",
   "execution_count": null,
   "outputs": [],
   "source": [
    "set_matplotlib_formats('svg')"
   ],
   "metadata": {
    "collapsed": false,
    "ExecuteTime": {
     "start_time": "2023-05-14T13:35:10.861047Z",
     "end_time": "2023-05-14T13:35:10.864976Z"
    }
   }
  },
  {
   "cell_type": "markdown",
   "source": [
    "# Exercise 1\n",
    "\n",
    "Implement a discrete-event simulator for an M/M/1 queue-server system that manages at least the stated below:\n",
    "\n",
    "- Start of the simulation\n",
    "- End of the simulation\n",
    "- Arrival of a packet\n",
    "- Departure of a packet\n",
    "\n",
    "To do this, create first an ordered queue / list of events where:\n",
    "\n",
    "- Every event always links to the one that immediately follows it in time;\n",
    "- When you insert an event in the queue, you always insert it in order of increasing time; (i.e., say that the queue contains three events: event 1 taking place at time $t_1$ and linking to event 2, which takes place at time $t_2$ and which links to event 3 at time $t_3$; if another event 4 taking place at time $t_4$ is inserted in the queue, and $t_2$ < $t_4$ < $t_3$, then you have to make event 2 link to event 4, and event 4 link to event 3.\n",
    "\n",
    "Finally, implement the system behavior as seen in class, namely:\n",
    "\n",
    "- When a packet arrives: if the server is free seize the server and schedule the departure of the packet; if the server is busy, increase the number of packets in queue;\n",
    "- When a departure event is triggered: if the queue is empty, release the server; otherwise keep the server busy and schedule the next departure event.\n",
    "\n",
    "Use your simulator to do the following:\n",
    "\n",
    "1. Show how the number of packets in the system (those in queue plus those currently in service) varies over time. Compare your results with the theoretical average number of packets in the system in stationary conditions, $\\frac \\rho {1 − \\rho}$, where $\\rho = \\frac \\lambda \\mu$.\n",
    "\n",
    "2. Play with $\\lambda$ and $\\mu$, and discuss how their values impact the convergence of the system to the theoretical value.\n",
    "\n",
    "3. Use your simulator to measure the average time that a packet has to wait in queue, on average, and compare it against the theoretical value, $\\frac {\\rho^2} {\\lambda(1 − \\rho)}$ (_Hint_: you will need to run your simulator several times to do the above. Remember the contents of the class on output analysis.)"
   ],
   "metadata": {
    "collapsed": false,
    "ExecuteTime": {
     "start_time": "2023-05-14T00:51:11.660370Z",
     "end_time": "2023-05-14T00:51:11.672608Z"
    }
   },
   "outputs": [],
   "execution_count": 32
  },
  {
   "cell_type": "code",
   "execution_count": null,
   "outputs": [],
   "source": [
    "class ET(IntEnum):\n",
    "    START = auto()\n",
    "    ARRIVAL = auto()\n",
    "    DEPARTURE = auto()\n",
    "\n",
    "\n",
    "class LT(IntEnum):\n",
    "    ARRIVAL = auto()\n",
    "    SERVING = auto()\n",
    "    DEPARTURE = auto()\n",
    "\n",
    "\n",
    "@dataclass(order=True, frozen=True, slots=True)\n",
    "class Event:\n",
    "    timestamp: float\n",
    "    event: ET\n",
    "\n",
    "\n",
    "@dataclass(order=True, frozen=True, slots=True)\n",
    "class Log:\n",
    "    timestamp: float\n",
    "    log: LT"
   ],
   "metadata": {
    "collapsed": false,
    "ExecuteTime": {
     "start_time": "2023-05-14T13:35:10.865430Z",
     "end_time": "2023-05-14T13:35:10.876275Z"
    }
   }
  },
  {
   "cell_type": "code",
   "execution_count": null,
   "outputs": [],
   "source": [
    "seeds: Iterator[int] = mit.sieve(1_000)\n",
    "mit.consume(seeds, 1)"
   ],
   "metadata": {
    "collapsed": false,
    "ExecuteTime": {
     "start_time": "2023-05-14T13:35:10.879727Z",
     "end_time": "2023-05-14T13:35:10.920661Z"
    }
   }
  },
  {
   "cell_type": "markdown",
   "source": [
    "$$\n",
    "U \\sim \\text{Uniform}(0, 1) \\qquad X = - \\frac {\\log U} \\lambda \\sim \\text{Exp}(\\lambda)\n",
    "$$"
   ],
   "metadata": {
    "collapsed": false,
    "ExecuteTime": {
     "start_time": "2023-05-14T00:51:13.685029Z",
     "end_time": "2023-05-14T00:51:13.698396Z"
    }
   },
   "outputs": [],
   "execution_count": 34
  },
  {
   "cell_type": "code",
   "execution_count": null,
   "outputs": [],
   "source": [
    "def uni_to_exp(lmbd: float, u: float) -> float:\n",
    "    return -math.log(u) / lmbd\n",
    "\n",
    "\n",
    "def mm1_simulation(seed_arr: int, seed_dep: int, lmbd: float, mu: float) -> Iterator[Log]:\n",
    "    \"\"\"\n",
    "    Reproducible simulation of M/M/1 queue-server system\n",
    "\n",
    "    >>> list(mit.take(100, mm1_simulation(3, 7, 1, 1))) == list(mit.take(100, mm1_simulation(3, 7, 1, 1)))\n",
    "    True\n",
    "\n",
    "    >>> all(a.timestamp <= b.timestamp for a, b in mit.take(100, it.pairwise(mm1_simulation(3, 7, 1, 1))))\n",
    "    True\n",
    "\n",
    "    >>> l1m1 = list(mit.take(100, mm1_simulation(3, 7, 1, 1)))\n",
    "    >>> mit.quantify(l.log == LT.SERVING for l in l1m1) <= mit.quantify(l.log == LT.ARRIVAL for l in l1m1)\n",
    "    True\n",
    "\n",
    "    >>> l1m1 = list(mit.take(100, mm1_simulation(3, 7, 1, 1)))\n",
    "    >>> mit.quantify(l.log == LT.DEPARTURE for l in l1m1) <= mit.quantify(l.log == LT.SERVING for l in l1m1)\n",
    "    True\n",
    "\n",
    "    >>> l1m1 = list(mit.take(100, mm1_simulation(3, 7, 1, 1)))\n",
    "    >>> l1m2 = list(mit.take(100, mm1_simulation(3, 7, 1, 2)))\n",
    "    >>> l1m1_dep_over_arr = mit.quantify(l.log == LT.DEPARTURE for l in l1m1) / mit.quantify(l.log == LT.ARRIVAL for l in l1m1)\n",
    "    >>> l1m2_dep_over_arr = mit.quantify(l.log == LT.DEPARTURE for l in l1m2) / mit.quantify(l.log == LT.ARRIVAL for l in l1m2)\n",
    "    >>> l1m1_dep_over_arr < l1m2_dep_over_arr\n",
    "    True\n",
    "    \"\"\"\n",
    "\n",
    "    rng_arr: np.random.Generator = np.random.default_rng(seed_arr)\n",
    "\n",
    "    def next_arr(timestamp: float) -> Event:\n",
    "        return Event(\n",
    "            timestamp + uni_to_exp(lmbd, rng_arr.random()),\n",
    "            ET.ARRIVAL\n",
    "        )\n",
    "\n",
    "    rng_dep: np.random.Generator = np.random.default_rng(seed_dep)\n",
    "\n",
    "    def next_dep(timestamp: float) -> Event:\n",
    "        return Event(\n",
    "            timestamp + uni_to_exp(mu, rng_dep.random()),\n",
    "            ET.DEPARTURE\n",
    "        )\n",
    "\n",
    "    busy: bool = False\n",
    "    in_queue: int = 0\n",
    "\n",
    "    timeline: list[Event] = [\n",
    "        Event(timestamp=0, event=ET.START),\n",
    "    ]\n",
    "\n",
    "    while True:\n",
    "        e: Event = hq.heappop(timeline)\n",
    "        match e.event:\n",
    "\n",
    "            case ET.START:\n",
    "                hq.heappush(timeline, next_arr(e.timestamp))\n",
    "\n",
    "            case ET.ARRIVAL:\n",
    "                yield Log(e.timestamp, LT.ARRIVAL)\n",
    "                hq.heappush(timeline, next_arr(e.timestamp))\n",
    "\n",
    "                match busy:\n",
    "                    case True:\n",
    "                        in_queue = in_queue + 1\n",
    "                    case False:\n",
    "                        yield Log(e.timestamp, LT.SERVING)\n",
    "                        busy = True\n",
    "                        hq.heappush(timeline, next_dep(e.timestamp))\n",
    "\n",
    "            case ET.DEPARTURE:\n",
    "                yield Log(e.timestamp, LT.DEPARTURE)\n",
    "\n",
    "                match in_queue:\n",
    "                    case 0:\n",
    "                        busy = False\n",
    "                    case _:\n",
    "                        yield Log(e.timestamp, LT.SERVING)\n",
    "                        in_queue = in_queue - 1\n",
    "                        hq.heappush(timeline, next_dep(e.timestamp))\n",
    "\n",
    "\n",
    "def timespan_packages(xs: Iterator[Log]) -> Iterator[tuple[float, int]]:\n",
    "    \"\"\"\n",
    "    From sequence of logs to sequence of (timespan, packages in system)\n",
    "\n",
    "    >>> list(timespan_packages([Log(10, LT.ARRIVAL), Log(15, LT.ARRIVAL), Log(25, LT.DEPARTURE), Log(30, LT.DEPARTURE)]))\n",
    "    [(10, 0), (5, 1), (10, 2), (5, 1)]\n",
    "    \"\"\"\n",
    "\n",
    "    def packages(acc: int, l: LT.ARRIVAL | LT.DEPARTURE) -> int:\n",
    "        match l:\n",
    "            case LT.ARRIVAL:\n",
    "                return acc + 1\n",
    "            case LT.DEPARTURE:\n",
    "                return acc - 1\n",
    "\n",
    "    xs1, xs2 = it.tee((l for l in xs if l.log in [LT.ARRIVAL, LT.DEPARTURE]), 2)\n",
    "\n",
    "    spans: Iterator[float] = (t2 - t1 for t1, t2 in it.pairwise(mit.prepend(0, (l.timestamp for l in xs1))))\n",
    "    pkgs: Iterator[int] = it.accumulate((l.log for l in xs2), packages, initial=0)\n",
    "    return zip(spans, pkgs)\n",
    "\n",
    "\n",
    "def waiting(xs: Iterator[Log]) -> Iterator[float]:\n",
    "    \"\"\"\n",
    "    From sequence of logs to sequence of waiting times\n",
    "\n",
    "    >>> list(waiting([Log(10, LT.ARRIVAL), Log(10, LT.SERVING), Log(15, LT.ARRIVAL), Log(20, LT.DEPARTURE), Log(20, LT.SERVING), Log(15, LT.ARRIVAL)]))\n",
    "    [0, 5]\n",
    "    \"\"\"\n",
    "    xs1, xs2 = it.tee(xs, 2)\n",
    "    eas = (l.timestamp for l in xs1 if LT.ARRIVAL == l.log)\n",
    "    ess = (l.timestamp for l in xs2 if LT.SERVING == l.log)\n",
    "    return (s - a for a, s in zip(eas, ess))\n",
    "\n",
    "\n",
    "def take(n: int, xs: Iterator[tuple[SupportsFloat, ...]]) -> NDArray[...]:\n",
    "    \"\"\"\n",
    "    From sequence of tuple to NDArray\n",
    "\n",
    "    >>> take(3, [(1.5, 1), (2.5, 2), (3.5, 3), (4.5, 4)])\n",
    "    array([[1.5, 1. ],\n",
    "           [2.5, 2. ],\n",
    "           [3.5, 3. ]])\n",
    "    \"\"\"\n",
    "    return np.stack([np.asarray(e) for e in zip(*mit.take(n, xs))], axis=1)\n",
    "\n",
    "\n",
    "def overlapping_batches(xs: Iterator[tuple[SupportsFloat, ...]], b: int, m: int) -> NDArray[...]:\n",
    "    \"\"\"\n",
    "    From sequence of tuple to overlapping batches NDArray\n",
    "\n",
    "    >>> overlapping_batches([(1.5, 1), (2.5, 2), (3.5, 3), (4.5, 4)], 2, 2)\n",
    "    array([[[1.5, 1. ],\n",
    "            [2.5, 2. ]],\n",
    "    <BLANKLINE>\n",
    "           [[2.5, 2. ],\n",
    "            [3.5, 3. ]]])\n",
    "    \"\"\"\n",
    "    vs: NDArray[...] = take(m + b, xs)\n",
    "    return np.stack([vs[i:(m + i)] for i in range(b)])\n",
    "\n",
    "\n",
    "def non_overlapping_batches(xs: Iterator[tuple[SupportsFloat, ...]], b: int, m: int) -> NDArray[...]:\n",
    "    \"\"\"\n",
    "    From sequence of tuple to non-overlapping batches NDArray\n",
    "\n",
    "    >>> non_overlapping_batches([(1.5, 1), (2.5, 2), (3.5, 3), (4.5, 4), (5.5, 5)], 2, 2)\n",
    "    array([[[1.5, 1. ],\n",
    "            [2.5, 2. ]],\n",
    "    <BLANKLINE>\n",
    "           [[3.5, 3. ],\n",
    "            [4.5, 4. ]]])\n",
    "    \"\"\"\n",
    "    vs: NDArray[...] = take(m * b, xs)\n",
    "    return np.stack([vs[i * m:(i + 1) * m] for i in range(b)])\n"
   ],
   "metadata": {
    "collapsed": false,
    "ExecuteTime": {
     "start_time": "2023-05-14T13:35:10.886382Z",
     "end_time": "2023-05-14T13:35:10.921099Z"
    }
   }
  },
  {
   "cell_type": "code",
   "execution_count": null,
   "outputs": [],
   "source": [
    "doctest.testmod()"
   ],
   "metadata": {
    "collapsed": false,
    "ExecuteTime": {
     "start_time": "2023-05-14T13:35:10.931201Z",
     "end_time": "2023-05-14T13:35:10.980782Z"
    }
   }
  },
  {
   "cell_type": "markdown",
   "source": [
    "---"
   ],
   "metadata": {
    "collapsed": false,
    "ExecuteTime": {
     "start_time": "2023-05-14T00:51:16.364151Z",
     "end_time": "2023-05-14T00:51:16.404473Z"
    }
   },
   "outputs": [
    {
     "data": {
      "text/plain": "TestResults(failed=0, attempted=16)"
     },
     "execution_count": 37,
     "metadata": {},
     "output_type": "execute_result"
    }
   ],
   "execution_count": 37
  },
  {
   "cell_type": "code",
   "execution_count": null,
   "outputs": [],
   "source": [
    "seed_arr: int = next(seeds)\n",
    "seed_dep: int = next(seeds)\n",
    "\n",
    "lmbd: float = 1\n",
    "mu: float = 10\n",
    "rho: float = lmbd / mu\n",
    "gamma: float = 0.95"
   ],
   "metadata": {
    "collapsed": false,
    "ExecuteTime": {
     "start_time": "2023-05-14T13:35:10.964678Z",
     "end_time": "2023-05-14T13:35:10.981264Z"
    }
   }
  },
  {
   "cell_type": "code",
   "execution_count": null,
   "outputs": [],
   "source": [
    "span_pkgs: Iterator[tuple[float, int]] = timespan_packages(\n",
    "    mm1_simulation(seed_arr=seed_arr, seed_dep=seed_dep, lmbd=lmbd, mu=mu)\n",
    ")\n",
    "\n",
    "n: int = 500\n",
    "samples: NDArray[...] = take(n, span_pkgs)"
   ],
   "metadata": {
    "collapsed": false,
    "ExecuteTime": {
     "start_time": "2023-05-14T14:36:33.563550Z",
     "end_time": "2023-05-14T14:36:33.593914Z"
    }
   }
  },
  {
   "cell_type": "code",
   "execution_count": null,
   "outputs": [],
   "source": [
    "a: plt.Axes\n",
    "_, a = plt.subplots(1, 1, figsize=(12, 5))\n",
    "\n",
    "a.stairs(\n",
    "    samples[:, 1],\n",
    "    edges = np.cumsum(np.append(0, samples[:, 0])),\n",
    "    alpha=0.95,\n",
    "    label=f'$\\\\lambda={lmbd}, \\\\mu={mu}$',\n",
    "    hatch='\\\\' * 5,\n",
    ")\n",
    "\n",
    "a.axhline(\n",
    "    rho / (1 - rho),\n",
    "    alpha=0.5,\n",
    "    label=r'$\\frac{\\rho}{1 − \\rho}$',\n",
    "    color='red',\n",
    "    linestyle='--',\n",
    ")\n",
    "\n",
    "a.legend(loc='upper left')\n",
    "a.set_xlabel('time')\n",
    "a.set_ylabel('pkgs')\n",
    "a.set_yticks(range(4))\n",
    "a.set_title(f'{n} samples, seeds: {seed_arr}, {seed_dep}')\n",
    "pass"
   ],
   "metadata": {
    "collapsed": false,
    "ExecuteTime": {
     "start_time": "2023-05-14T14:36:33.867179Z",
     "end_time": "2023-05-14T14:36:34.253655Z"
    }
   }
  },
  {
   "cell_type": "markdown",
   "source": [
    "Non-overlapping batches\n",
    "$$\n",
    "\\underbrace{Y_1, \\ldots, Y_m}_{B_1},\n",
    "\\underbrace{Y_{m + 1}, \\ldots, Y_{2m}}_{B_2},\n",
    "\\cdots,\n",
    "\\underbrace{Y_{(b - 1) m + 1}, \\ldots, Y_{b m}}_{B_b}\n",
    "$$\n",
    "$$\n",
    "\\hat V_B = \\frac 1 {b - 1} \\sum_i^b (Z_i - \\overline Z_b)^2\n",
    "$$\n",
    "$$\n",
    "\\overline Z_b = \\frac 1 b \\sum_i^b Z_i\n",
    "$$\n",
    "$$\n",
    "\\left[ \\overline Z_b \\pm t_{b - 1, \\frac {1 + \\gamma} 2} \\sqrt{\\frac {\\hat V} b} \\right]_\\gamma\n",
    "$$"
   ],
   "metadata": {
    "collapsed": false,
    "ExecuteTime": {
     "start_time": "2023-05-14T00:51:17.609523Z",
     "end_time": "2023-05-14T00:51:17.623245Z"
    }
   },
   "outputs": [],
   "execution_count": 38
  },
  {
   "cell_type": "code",
   "execution_count": null,
   "outputs": [],
   "source": [
    "m: int = 10_000\n",
    "b: int = 200\n",
    "n: int = b * m\n",
    "\n",
    "span_pkgs: Iterator[tuple[float, int]] = timespan_packages(\n",
    "    mm1_simulation(seed_arr=seed_arr, seed_dep=seed_dep, lmbd=lmbd, mu=mu)\n",
    ")\n",
    "\n",
    "batches: NDArray[...] = non_overlapping_batches(span_pkgs, b, m)"
   ],
   "metadata": {
    "collapsed": false,
    "ExecuteTime": {
     "start_time": "2023-05-14T13:35:11.428829Z",
     "end_time": "2023-05-14T13:35:23.201188Z"
    }
   }
  },
  {
   "cell_type": "code",
   "execution_count": null,
   "outputs": [],
   "source": [
    "mus: NDArray[float] = np.average(batches[:, :, 1], axis=1, weights=batches[:, :, 0])\n",
    "grand_mean: float = st.fmean(mus)\n",
    "v: float = np.sum((mus - grand_mean) ** 2) / (b - 1)\n",
    "\n",
    "delta: float = sp.stats.t.ppf((1 + gamma) / 2, df=b - 1) * math.sqrt(v / b)"
   ],
   "metadata": {
    "collapsed": false,
    "ExecuteTime": {
     "start_time": "2023-05-14T13:35:23.203599Z",
     "end_time": "2023-05-14T13:35:23.830359Z"
    }
   }
  },
  {
   "cell_type": "code",
   "execution_count": null,
   "outputs": [],
   "source": [
    "mus, grand_mean, delta"
   ],
   "metadata": {
    "collapsed": false,
    "ExecuteTime": {
     "start_time": "2023-05-14T13:35:23.831402Z",
     "end_time": "2023-05-14T13:35:23.844099Z"
    }
   }
  },
  {
   "cell_type": "code",
   "execution_count": null,
   "outputs": [],
   "source": [
    "a: plt.Axes\n",
    "_, a = plt.subplots(1, 1, figsize=(12, 5))\n",
    "\n",
    "a.hlines(\n",
    "    y=mus,\n",
    "    xmin=np.arange(0, b) * m,\n",
    "    xmax=(np.arange(0, b) + 1) * m,\n",
    "    colors=[f'C{i}' for i in range(b)],\n",
    "    alpha=0.2,\n",
    ")\n",
    "\n",
    "a.axhspan(\n",
    "    grand_mean - delta,\n",
    "    grand_mean + delta,\n",
    "    alpha=0.5,\n",
    "    color='C0',\n",
    "    label='CI 0.95'\n",
    ")\n",
    "a.axhline(\n",
    "    grand_mean,\n",
    "    label=r'$\\hat\\mu$',\n",
    "    color='C0',\n",
    ")\n",
    "a.axhline(\n",
    "    rho / (1 - rho),\n",
    "    alpha=0.5,\n",
    "    label=r'$\\frac{\\rho}{1 − \\rho}$',\n",
    "    color='red',\n",
    "    linestyle='--',\n",
    ")\n",
    "\n",
    "a.legend(loc='upper left')\n",
    "a.set_title(f'non-overlapping {seed_arr}, {seed_dep}')\n",
    "a.set_xlabel('samples')\n",
    "a.set_ylabel(r'$\\mathbf{E}\\left[\\frac{\\rm pkgs}{\\rm timespan}\\right]$')\n",
    "pass"
   ],
   "metadata": {
    "collapsed": false,
    "ExecuteTime": {
     "start_time": "2023-05-14T13:35:23.861607Z",
     "end_time": "2023-05-14T13:35:24.288056Z"
    }
   }
  },
  {
   "cell_type": "markdown",
   "source": [
    "Overlapping batches\n",
    "\n",
    "$$\n",
    "\\begin{matrix}\n",
    "Y_1 & Y_2 & Y_3 & Y_4 & \\cdots & Y_m \\\\\n",
    " \\  & Y_2 & Y_3 & Y_4 & \\cdots & Y_m & Y_{m + 1} \\\\\n",
    " \\  &  \\  & Y_3 & Y_4 & \\cdots & Y_m & Y_{m + 1} & Y_{m + 2} \\\\\n",
    " \\  &  \\  &  \\  & Y_4 & \\cdots & Y_m & Y_{m + 1} & Y_{m + 2} & Y_{m + 3} \\\\\n",
    " \\  &  \\  &  \\  &  \\  & \\vdots & \\vdots & \\vdots & \\vdots & \\vdots & \\vdots\n",
    "\\end{matrix}\n",
    "$$\n",
    "$$\n",
    "\\hat V_O = \\frac 1 {n - m + 1} \\sum_i^{n - m + 1} (Z_i - \\overline Z_b)^2\n",
    "$$\n",
    "$$\n",
    "\\overline Z_b = \\frac 1 b \\sum_i^b Z_i\n",
    "$$\n",
    "$$\n",
    "\\left[ \\overline Z_b \\pm t_{b - 1, \\frac {1 + \\gamma} 2} \\sqrt{\\frac {\\hat V} b} \\right]_\\gamma\n",
    "$$"
   ],
   "metadata": {
    "collapsed": false,
    "ExecuteTime": {
     "start_time": "2023-05-14T01:07:17.303548Z",
     "end_time": "2023-05-14T01:07:17.547625Z"
    }
   },
   "outputs": [
    {
     "data": {
      "image/svg+xml": "<?xml version=\"1.0\" encoding=\"utf-8\" standalone=\"no\"?>\n<!DOCTYPE svg PUBLIC \"-//W3C//DTD SVG 1.1//EN\"\n  \"http://www.w3.org/Graphics/SVG/1.1/DTD/svg11.dtd\">\n<svg xmlns:xlink=\"http://www.w3.org/1999/xlink\" width=\"421.462187pt\" height=\"312.30825pt\" viewBox=\"0 0 421.462187 312.30825\" xmlns=\"http://www.w3.org/2000/svg\" version=\"1.1\">\n <metadata>\n  <rdf:RDF xmlns:dc=\"http://purl.org/dc/elements/1.1/\" xmlns:cc=\"http://creativecommons.org/ns#\" xmlns:rdf=\"http://www.w3.org/1999/02/22-rdf-syntax-ns#\">\n   <cc:Work>\n    <dc:type rdf:resource=\"http://purl.org/dc/dcmitype/StillImage\"/>\n    <dc:date>2023-05-14T01:07:17.463680</dc:date>\n    <dc:format>image/svg+xml</dc:format>\n    <dc:creator>\n     <cc:Agent>\n      <dc:title>Matplotlib v3.7.1, https://matplotlib.org/</dc:title>\n     </cc:Agent>\n    </dc:creator>\n   </cc:Work>\n  </rdf:RDF>\n </metadata>\n <defs>\n  <style type=\"text/css\">*{stroke-linejoin: round; stroke-linecap: butt}</style>\n </defs>\n <g id=\"figure_1\">\n  <g id=\"patch_1\">\n   <path d=\"M 0 312.30825 \nL 421.462187 312.30825 \nL 421.462187 0 \nL 0 0 \nz\n\" style=\"fill: #ffffff\"/>\n  </g>\n  <g id=\"axes_1\">\n   <g id=\"patch_2\">\n    <path d=\"M 49.190625 288.430125 \nL 406.310625 288.430125 \nL 406.310625 22.318125 \nL 49.190625 22.318125 \nz\n\" style=\"fill: #ffffff\"/>\n   </g>\n   <g id=\"patch_3\">\n    <path d=\"M 49.190625 276.334125 \nL 49.190625 34.414125 \nL 406.310625 34.414125 \nL 406.310625 276.334125 \nz\n\" clip-path=\"url(#p129cb361df)\" style=\"fill: #1f77b4; opacity: 0.5; stroke: #1f77b4; stroke-linejoin: miter\"/>\n   </g>\n   <g id=\"matplotlib.axis_1\">\n    <g id=\"xtick_1\">\n     <g id=\"line2d_1\">\n      <defs>\n       <path id=\"m5294911cf9\" d=\"M 0 0 \nL 0 3.5 \n\" style=\"stroke: #000000; stroke-width: 0.8\"/>\n      </defs>\n      <g>\n       <use xlink:href=\"#m5294911cf9\" x=\"49.190625\" y=\"288.430125\" style=\"stroke: #000000; stroke-width: 0.8\"/>\n      </g>\n     </g>\n     <g id=\"text_1\">\n      <!-- 0.0 -->\n      <g transform=\"translate(41.239063 303.028562) scale(0.1 -0.1)\">\n       <defs>\n        <path id=\"DejaVuSans-30\" d=\"M 2034 4250 \nQ 1547 4250 1301 3770 \nQ 1056 3291 1056 2328 \nQ 1056 1369 1301 889 \nQ 1547 409 2034 409 \nQ 2525 409 2770 889 \nQ 3016 1369 3016 2328 \nQ 3016 3291 2770 3770 \nQ 2525 4250 2034 4250 \nz\nM 2034 4750 \nQ 2819 4750 3233 4129 \nQ 3647 3509 3647 2328 \nQ 3647 1150 3233 529 \nQ 2819 -91 2034 -91 \nQ 1250 -91 836 529 \nQ 422 1150 422 2328 \nQ 422 3509 836 4129 \nQ 1250 4750 2034 4750 \nz\n\" transform=\"scale(0.015625)\"/>\n        <path id=\"DejaVuSans-2e\" d=\"M 684 794 \nL 1344 794 \nL 1344 0 \nL 684 0 \nL 684 794 \nz\n\" transform=\"scale(0.015625)\"/>\n       </defs>\n       <use xlink:href=\"#DejaVuSans-30\"/>\n       <use xlink:href=\"#DejaVuSans-2e\" x=\"63.623047\"/>\n       <use xlink:href=\"#DejaVuSans-30\" x=\"95.410156\"/>\n      </g>\n     </g>\n    </g>\n    <g id=\"xtick_2\">\n     <g id=\"line2d_2\">\n      <g>\n       <use xlink:href=\"#m5294911cf9\" x=\"120.614625\" y=\"288.430125\" style=\"stroke: #000000; stroke-width: 0.8\"/>\n      </g>\n     </g>\n     <g id=\"text_2\">\n      <!-- 0.2 -->\n      <g transform=\"translate(112.663063 303.028562) scale(0.1 -0.1)\">\n       <defs>\n        <path id=\"DejaVuSans-32\" d=\"M 1228 531 \nL 3431 531 \nL 3431 0 \nL 469 0 \nL 469 531 \nQ 828 903 1448 1529 \nQ 2069 2156 2228 2338 \nQ 2531 2678 2651 2914 \nQ 2772 3150 2772 3378 \nQ 2772 3750 2511 3984 \nQ 2250 4219 1831 4219 \nQ 1534 4219 1204 4116 \nQ 875 4013 500 3803 \nL 500 4441 \nQ 881 4594 1212 4672 \nQ 1544 4750 1819 4750 \nQ 2544 4750 2975 4387 \nQ 3406 4025 3406 3419 \nQ 3406 3131 3298 2873 \nQ 3191 2616 2906 2266 \nQ 2828 2175 2409 1742 \nQ 1991 1309 1228 531 \nz\n\" transform=\"scale(0.015625)\"/>\n       </defs>\n       <use xlink:href=\"#DejaVuSans-30\"/>\n       <use xlink:href=\"#DejaVuSans-2e\" x=\"63.623047\"/>\n       <use xlink:href=\"#DejaVuSans-32\" x=\"95.410156\"/>\n      </g>\n     </g>\n    </g>\n    <g id=\"xtick_3\">\n     <g id=\"line2d_3\">\n      <g>\n       <use xlink:href=\"#m5294911cf9\" x=\"192.038625\" y=\"288.430125\" style=\"stroke: #000000; stroke-width: 0.8\"/>\n      </g>\n     </g>\n     <g id=\"text_3\">\n      <!-- 0.4 -->\n      <g transform=\"translate(184.087063 303.028562) scale(0.1 -0.1)\">\n       <defs>\n        <path id=\"DejaVuSans-34\" d=\"M 2419 4116 \nL 825 1625 \nL 2419 1625 \nL 2419 4116 \nz\nM 2253 4666 \nL 3047 4666 \nL 3047 1625 \nL 3713 1625 \nL 3713 1100 \nL 3047 1100 \nL 3047 0 \nL 2419 0 \nL 2419 1100 \nL 313 1100 \nL 313 1709 \nL 2253 4666 \nz\n\" transform=\"scale(0.015625)\"/>\n       </defs>\n       <use xlink:href=\"#DejaVuSans-30\"/>\n       <use xlink:href=\"#DejaVuSans-2e\" x=\"63.623047\"/>\n       <use xlink:href=\"#DejaVuSans-34\" x=\"95.410156\"/>\n      </g>\n     </g>\n    </g>\n    <g id=\"xtick_4\">\n     <g id=\"line2d_4\">\n      <g>\n       <use xlink:href=\"#m5294911cf9\" x=\"263.462625\" y=\"288.430125\" style=\"stroke: #000000; stroke-width: 0.8\"/>\n      </g>\n     </g>\n     <g id=\"text_4\">\n      <!-- 0.6 -->\n      <g transform=\"translate(255.511063 303.028562) scale(0.1 -0.1)\">\n       <defs>\n        <path id=\"DejaVuSans-36\" d=\"M 2113 2584 \nQ 1688 2584 1439 2293 \nQ 1191 2003 1191 1497 \nQ 1191 994 1439 701 \nQ 1688 409 2113 409 \nQ 2538 409 2786 701 \nQ 3034 994 3034 1497 \nQ 3034 2003 2786 2293 \nQ 2538 2584 2113 2584 \nz\nM 3366 4563 \nL 3366 3988 \nQ 3128 4100 2886 4159 \nQ 2644 4219 2406 4219 \nQ 1781 4219 1451 3797 \nQ 1122 3375 1075 2522 \nQ 1259 2794 1537 2939 \nQ 1816 3084 2150 3084 \nQ 2853 3084 3261 2657 \nQ 3669 2231 3669 1497 \nQ 3669 778 3244 343 \nQ 2819 -91 2113 -91 \nQ 1303 -91 875 529 \nQ 447 1150 447 2328 \nQ 447 3434 972 4092 \nQ 1497 4750 2381 4750 \nQ 2619 4750 2861 4703 \nQ 3103 4656 3366 4563 \nz\n\" transform=\"scale(0.015625)\"/>\n       </defs>\n       <use xlink:href=\"#DejaVuSans-30\"/>\n       <use xlink:href=\"#DejaVuSans-2e\" x=\"63.623047\"/>\n       <use xlink:href=\"#DejaVuSans-36\" x=\"95.410156\"/>\n      </g>\n     </g>\n    </g>\n    <g id=\"xtick_5\">\n     <g id=\"line2d_5\">\n      <g>\n       <use xlink:href=\"#m5294911cf9\" x=\"334.886625\" y=\"288.430125\" style=\"stroke: #000000; stroke-width: 0.8\"/>\n      </g>\n     </g>\n     <g id=\"text_5\">\n      <!-- 0.8 -->\n      <g transform=\"translate(326.935063 303.028562) scale(0.1 -0.1)\">\n       <defs>\n        <path id=\"DejaVuSans-38\" d=\"M 2034 2216 \nQ 1584 2216 1326 1975 \nQ 1069 1734 1069 1313 \nQ 1069 891 1326 650 \nQ 1584 409 2034 409 \nQ 2484 409 2743 651 \nQ 3003 894 3003 1313 \nQ 3003 1734 2745 1975 \nQ 2488 2216 2034 2216 \nz\nM 1403 2484 \nQ 997 2584 770 2862 \nQ 544 3141 544 3541 \nQ 544 4100 942 4425 \nQ 1341 4750 2034 4750 \nQ 2731 4750 3128 4425 \nQ 3525 4100 3525 3541 \nQ 3525 3141 3298 2862 \nQ 3072 2584 2669 2484 \nQ 3125 2378 3379 2068 \nQ 3634 1759 3634 1313 \nQ 3634 634 3220 271 \nQ 2806 -91 2034 -91 \nQ 1263 -91 848 271 \nQ 434 634 434 1313 \nQ 434 1759 690 2068 \nQ 947 2378 1403 2484 \nz\nM 1172 3481 \nQ 1172 3119 1398 2916 \nQ 1625 2713 2034 2713 \nQ 2441 2713 2670 2916 \nQ 2900 3119 2900 3481 \nQ 2900 3844 2670 4047 \nQ 2441 4250 2034 4250 \nQ 1625 4250 1398 4047 \nQ 1172 3844 1172 3481 \nz\n\" transform=\"scale(0.015625)\"/>\n       </defs>\n       <use xlink:href=\"#DejaVuSans-30\"/>\n       <use xlink:href=\"#DejaVuSans-2e\" x=\"63.623047\"/>\n       <use xlink:href=\"#DejaVuSans-38\" x=\"95.410156\"/>\n      </g>\n     </g>\n    </g>\n    <g id=\"xtick_6\">\n     <g id=\"line2d_6\">\n      <g>\n       <use xlink:href=\"#m5294911cf9\" x=\"406.310625\" y=\"288.430125\" style=\"stroke: #000000; stroke-width: 0.8\"/>\n      </g>\n     </g>\n     <g id=\"text_6\">\n      <!-- 1.0 -->\n      <g transform=\"translate(398.359062 303.028562) scale(0.1 -0.1)\">\n       <defs>\n        <path id=\"DejaVuSans-31\" d=\"M 794 531 \nL 1825 531 \nL 1825 4091 \nL 703 3866 \nL 703 4441 \nL 1819 4666 \nL 2450 4666 \nL 2450 531 \nL 3481 531 \nL 3481 0 \nL 794 0 \nL 794 531 \nz\n\" transform=\"scale(0.015625)\"/>\n       </defs>\n       <use xlink:href=\"#DejaVuSans-31\"/>\n       <use xlink:href=\"#DejaVuSans-2e\" x=\"63.623047\"/>\n       <use xlink:href=\"#DejaVuSans-30\" x=\"95.410156\"/>\n      </g>\n     </g>\n    </g>\n   </g>\n   <g id=\"matplotlib.axis_2\">\n    <g id=\"ytick_1\">\n     <g id=\"line2d_7\">\n      <defs>\n       <path id=\"mb2d8cb0f59\" d=\"M 0 0 \nL -3.5 0 \n\" style=\"stroke: #000000; stroke-width: 0.8\"/>\n      </defs>\n      <g>\n       <use xlink:href=\"#mb2d8cb0f59\" x=\"49.190625\" y=\"255.300352\" style=\"stroke: #000000; stroke-width: 0.8\"/>\n      </g>\n     </g>\n     <g id=\"text_7\">\n      <!-- 0.1109 -->\n      <g transform=\"translate(7.2 259.099571) scale(0.1 -0.1)\">\n       <defs>\n        <path id=\"DejaVuSans-39\" d=\"M 703 97 \nL 703 672 \nQ 941 559 1184 500 \nQ 1428 441 1663 441 \nQ 2288 441 2617 861 \nQ 2947 1281 2994 2138 \nQ 2813 1869 2534 1725 \nQ 2256 1581 1919 1581 \nQ 1219 1581 811 2004 \nQ 403 2428 403 3163 \nQ 403 3881 828 4315 \nQ 1253 4750 1959 4750 \nQ 2769 4750 3195 4129 \nQ 3622 3509 3622 2328 \nQ 3622 1225 3098 567 \nQ 2575 -91 1691 -91 \nQ 1453 -91 1209 -44 \nQ 966 3 703 97 \nz\nM 1959 2075 \nQ 2384 2075 2632 2365 \nQ 2881 2656 2881 3163 \nQ 2881 3666 2632 3958 \nQ 2384 4250 1959 4250 \nQ 1534 4250 1286 3958 \nQ 1038 3666 1038 3163 \nQ 1038 2656 1286 2365 \nQ 1534 2075 1959 2075 \nz\n\" transform=\"scale(0.015625)\"/>\n       </defs>\n       <use xlink:href=\"#DejaVuSans-30\"/>\n       <use xlink:href=\"#DejaVuSans-2e\" x=\"63.623047\"/>\n       <use xlink:href=\"#DejaVuSans-31\" x=\"95.410156\"/>\n       <use xlink:href=\"#DejaVuSans-31\" x=\"159.033203\"/>\n       <use xlink:href=\"#DejaVuSans-30\" x=\"222.65625\"/>\n       <use xlink:href=\"#DejaVuSans-39\" x=\"286.279297\"/>\n      </g>\n     </g>\n    </g>\n    <g id=\"ytick_2\">\n     <g id=\"line2d_8\">\n      <g>\n       <use xlink:href=\"#mb2d8cb0f59\" x=\"49.190625\" y=\"218.442955\" style=\"stroke: #000000; stroke-width: 0.8\"/>\n      </g>\n     </g>\n     <g id=\"text_8\">\n      <!-- 0.1110 -->\n      <g transform=\"translate(7.2 222.242174) scale(0.1 -0.1)\">\n       <use xlink:href=\"#DejaVuSans-30\"/>\n       <use xlink:href=\"#DejaVuSans-2e\" x=\"63.623047\"/>\n       <use xlink:href=\"#DejaVuSans-31\" x=\"95.410156\"/>\n       <use xlink:href=\"#DejaVuSans-31\" x=\"159.033203\"/>\n       <use xlink:href=\"#DejaVuSans-31\" x=\"222.65625\"/>\n       <use xlink:href=\"#DejaVuSans-30\" x=\"286.279297\"/>\n      </g>\n     </g>\n    </g>\n    <g id=\"ytick_3\">\n     <g id=\"line2d_9\">\n      <g>\n       <use xlink:href=\"#mb2d8cb0f59\" x=\"49.190625\" y=\"181.585558\" style=\"stroke: #000000; stroke-width: 0.8\"/>\n      </g>\n     </g>\n     <g id=\"text_9\">\n      <!-- 0.1111 -->\n      <g transform=\"translate(7.2 185.384777) scale(0.1 -0.1)\">\n       <use xlink:href=\"#DejaVuSans-30\"/>\n       <use xlink:href=\"#DejaVuSans-2e\" x=\"63.623047\"/>\n       <use xlink:href=\"#DejaVuSans-31\" x=\"95.410156\"/>\n       <use xlink:href=\"#DejaVuSans-31\" x=\"159.033203\"/>\n       <use xlink:href=\"#DejaVuSans-31\" x=\"222.65625\"/>\n       <use xlink:href=\"#DejaVuSans-31\" x=\"286.279297\"/>\n      </g>\n     </g>\n    </g>\n    <g id=\"ytick_4\">\n     <g id=\"line2d_10\">\n      <g>\n       <use xlink:href=\"#mb2d8cb0f59\" x=\"49.190625\" y=\"144.728161\" style=\"stroke: #000000; stroke-width: 0.8\"/>\n      </g>\n     </g>\n     <g id=\"text_10\">\n      <!-- 0.1112 -->\n      <g transform=\"translate(7.2 148.52738) scale(0.1 -0.1)\">\n       <use xlink:href=\"#DejaVuSans-30\"/>\n       <use xlink:href=\"#DejaVuSans-2e\" x=\"63.623047\"/>\n       <use xlink:href=\"#DejaVuSans-31\" x=\"95.410156\"/>\n       <use xlink:href=\"#DejaVuSans-31\" x=\"159.033203\"/>\n       <use xlink:href=\"#DejaVuSans-31\" x=\"222.65625\"/>\n       <use xlink:href=\"#DejaVuSans-32\" x=\"286.279297\"/>\n      </g>\n     </g>\n    </g>\n    <g id=\"ytick_5\">\n     <g id=\"line2d_11\">\n      <g>\n       <use xlink:href=\"#mb2d8cb0f59\" x=\"49.190625\" y=\"107.870764\" style=\"stroke: #000000; stroke-width: 0.8\"/>\n      </g>\n     </g>\n     <g id=\"text_11\">\n      <!-- 0.1113 -->\n      <g transform=\"translate(7.2 111.669983) scale(0.1 -0.1)\">\n       <defs>\n        <path id=\"DejaVuSans-33\" d=\"M 2597 2516 \nQ 3050 2419 3304 2112 \nQ 3559 1806 3559 1356 \nQ 3559 666 3084 287 \nQ 2609 -91 1734 -91 \nQ 1441 -91 1130 -33 \nQ 819 25 488 141 \nL 488 750 \nQ 750 597 1062 519 \nQ 1375 441 1716 441 \nQ 2309 441 2620 675 \nQ 2931 909 2931 1356 \nQ 2931 1769 2642 2001 \nQ 2353 2234 1838 2234 \nL 1294 2234 \nL 1294 2753 \nL 1863 2753 \nQ 2328 2753 2575 2939 \nQ 2822 3125 2822 3475 \nQ 2822 3834 2567 4026 \nQ 2313 4219 1838 4219 \nQ 1578 4219 1281 4162 \nQ 984 4106 628 3988 \nL 628 4550 \nQ 988 4650 1302 4700 \nQ 1616 4750 1894 4750 \nQ 2613 4750 3031 4423 \nQ 3450 4097 3450 3541 \nQ 3450 3153 3228 2886 \nQ 3006 2619 2597 2516 \nz\n\" transform=\"scale(0.015625)\"/>\n       </defs>\n       <use xlink:href=\"#DejaVuSans-30\"/>\n       <use xlink:href=\"#DejaVuSans-2e\" x=\"63.623047\"/>\n       <use xlink:href=\"#DejaVuSans-31\" x=\"95.410156\"/>\n       <use xlink:href=\"#DejaVuSans-31\" x=\"159.033203\"/>\n       <use xlink:href=\"#DejaVuSans-31\" x=\"222.65625\"/>\n       <use xlink:href=\"#DejaVuSans-33\" x=\"286.279297\"/>\n      </g>\n     </g>\n    </g>\n    <g id=\"ytick_6\">\n     <g id=\"line2d_12\">\n      <g>\n       <use xlink:href=\"#mb2d8cb0f59\" x=\"49.190625\" y=\"71.013367\" style=\"stroke: #000000; stroke-width: 0.8\"/>\n      </g>\n     </g>\n     <g id=\"text_12\">\n      <!-- 0.1114 -->\n      <g transform=\"translate(7.2 74.812586) scale(0.1 -0.1)\">\n       <use xlink:href=\"#DejaVuSans-30\"/>\n       <use xlink:href=\"#DejaVuSans-2e\" x=\"63.623047\"/>\n       <use xlink:href=\"#DejaVuSans-31\" x=\"95.410156\"/>\n       <use xlink:href=\"#DejaVuSans-31\" x=\"159.033203\"/>\n       <use xlink:href=\"#DejaVuSans-31\" x=\"222.65625\"/>\n       <use xlink:href=\"#DejaVuSans-34\" x=\"286.279297\"/>\n      </g>\n     </g>\n    </g>\n    <g id=\"ytick_7\">\n     <g id=\"line2d_13\">\n      <g>\n       <use xlink:href=\"#mb2d8cb0f59\" x=\"49.190625\" y=\"34.15597\" style=\"stroke: #000000; stroke-width: 0.8\"/>\n      </g>\n     </g>\n     <g id=\"text_13\">\n      <!-- 0.1115 -->\n      <g transform=\"translate(7.2 37.955189) scale(0.1 -0.1)\">\n       <defs>\n        <path id=\"DejaVuSans-35\" d=\"M 691 4666 \nL 3169 4666 \nL 3169 4134 \nL 1269 4134 \nL 1269 2991 \nQ 1406 3038 1543 3061 \nQ 1681 3084 1819 3084 \nQ 2600 3084 3056 2656 \nQ 3513 2228 3513 1497 \nQ 3513 744 3044 326 \nQ 2575 -91 1722 -91 \nQ 1428 -91 1123 -41 \nQ 819 9 494 109 \nL 494 744 \nQ 775 591 1075 516 \nQ 1375 441 1709 441 \nQ 2250 441 2565 725 \nQ 2881 1009 2881 1497 \nQ 2881 1984 2565 2268 \nQ 2250 2553 1709 2553 \nQ 1456 2553 1204 2497 \nQ 953 2441 691 2322 \nL 691 4666 \nz\n\" transform=\"scale(0.015625)\"/>\n       </defs>\n       <use xlink:href=\"#DejaVuSans-30\"/>\n       <use xlink:href=\"#DejaVuSans-2e\" x=\"63.623047\"/>\n       <use xlink:href=\"#DejaVuSans-31\" x=\"95.410156\"/>\n       <use xlink:href=\"#DejaVuSans-31\" x=\"159.033203\"/>\n       <use xlink:href=\"#DejaVuSans-31\" x=\"222.65625\"/>\n       <use xlink:href=\"#DejaVuSans-35\" x=\"286.279297\"/>\n      </g>\n     </g>\n    </g>\n   </g>\n   <g id=\"line2d_14\">\n    <path d=\"M 49.190625 155.374125 \nL 406.310625 155.374125 \n\" clip-path=\"url(#p129cb361df)\" style=\"fill: none; stroke: #1f77b4; stroke-width: 1.5; stroke-linecap: square\"/>\n   </g>\n   <g id=\"line2d_15\">\n    <path d=\"M 49.190625 177.490292 \nL 406.310625 177.490292 \n\" clip-path=\"url(#p129cb361df)\" style=\"fill: none; stroke-dasharray: 5.55,2.4; stroke-dashoffset: 0; stroke: #ff0000; stroke-opacity: 0.5; stroke-width: 1.5\"/>\n   </g>\n   <g id=\"patch_4\">\n    <path d=\"M 49.190625 288.430125 \nL 49.190625 22.318125 \n\" style=\"fill: none; stroke: #000000; stroke-width: 0.8; stroke-linejoin: miter; stroke-linecap: square\"/>\n   </g>\n   <g id=\"patch_5\">\n    <path d=\"M 406.310625 288.430125 \nL 406.310625 22.318125 \n\" style=\"fill: none; stroke: #000000; stroke-width: 0.8; stroke-linejoin: miter; stroke-linecap: square\"/>\n   </g>\n   <g id=\"patch_6\">\n    <path d=\"M 49.190625 288.430125 \nL 406.310625 288.430125 \n\" style=\"fill: none; stroke: #000000; stroke-width: 0.8; stroke-linejoin: miter; stroke-linecap: square\"/>\n   </g>\n   <g id=\"patch_7\">\n    <path d=\"M 49.190625 22.318125 \nL 406.310625 22.318125 \n\" style=\"fill: none; stroke: #000000; stroke-width: 0.8; stroke-linejoin: miter; stroke-linecap: square\"/>\n   </g>\n   <g id=\"text_14\">\n    <!-- non-overlapping 5, 3 -->\n    <g transform=\"translate(165.220313 16.318125) scale(0.12 -0.12)\">\n     <defs>\n      <path id=\"DejaVuSans-6e\" d=\"M 3513 2113 \nL 3513 0 \nL 2938 0 \nL 2938 2094 \nQ 2938 2591 2744 2837 \nQ 2550 3084 2163 3084 \nQ 1697 3084 1428 2787 \nQ 1159 2491 1159 1978 \nL 1159 0 \nL 581 0 \nL 581 3500 \nL 1159 3500 \nL 1159 2956 \nQ 1366 3272 1645 3428 \nQ 1925 3584 2291 3584 \nQ 2894 3584 3203 3211 \nQ 3513 2838 3513 2113 \nz\n\" transform=\"scale(0.015625)\"/>\n      <path id=\"DejaVuSans-6f\" d=\"M 1959 3097 \nQ 1497 3097 1228 2736 \nQ 959 2375 959 1747 \nQ 959 1119 1226 758 \nQ 1494 397 1959 397 \nQ 2419 397 2687 759 \nQ 2956 1122 2956 1747 \nQ 2956 2369 2687 2733 \nQ 2419 3097 1959 3097 \nz\nM 1959 3584 \nQ 2709 3584 3137 3096 \nQ 3566 2609 3566 1747 \nQ 3566 888 3137 398 \nQ 2709 -91 1959 -91 \nQ 1206 -91 779 398 \nQ 353 888 353 1747 \nQ 353 2609 779 3096 \nQ 1206 3584 1959 3584 \nz\n\" transform=\"scale(0.015625)\"/>\n      <path id=\"DejaVuSans-2d\" d=\"M 313 2009 \nL 1997 2009 \nL 1997 1497 \nL 313 1497 \nL 313 2009 \nz\n\" transform=\"scale(0.015625)\"/>\n      <path id=\"DejaVuSans-76\" d=\"M 191 3500 \nL 800 3500 \nL 1894 563 \nL 2988 3500 \nL 3597 3500 \nL 2284 0 \nL 1503 0 \nL 191 3500 \nz\n\" transform=\"scale(0.015625)\"/>\n      <path id=\"DejaVuSans-65\" d=\"M 3597 1894 \nL 3597 1613 \nL 953 1613 \nQ 991 1019 1311 708 \nQ 1631 397 2203 397 \nQ 2534 397 2845 478 \nQ 3156 559 3463 722 \nL 3463 178 \nQ 3153 47 2828 -22 \nQ 2503 -91 2169 -91 \nQ 1331 -91 842 396 \nQ 353 884 353 1716 \nQ 353 2575 817 3079 \nQ 1281 3584 2069 3584 \nQ 2775 3584 3186 3129 \nQ 3597 2675 3597 1894 \nz\nM 3022 2063 \nQ 3016 2534 2758 2815 \nQ 2500 3097 2075 3097 \nQ 1594 3097 1305 2825 \nQ 1016 2553 972 2059 \nL 3022 2063 \nz\n\" transform=\"scale(0.015625)\"/>\n      <path id=\"DejaVuSans-72\" d=\"M 2631 2963 \nQ 2534 3019 2420 3045 \nQ 2306 3072 2169 3072 \nQ 1681 3072 1420 2755 \nQ 1159 2438 1159 1844 \nL 1159 0 \nL 581 0 \nL 581 3500 \nL 1159 3500 \nL 1159 2956 \nQ 1341 3275 1631 3429 \nQ 1922 3584 2338 3584 \nQ 2397 3584 2469 3576 \nQ 2541 3569 2628 3553 \nL 2631 2963 \nz\n\" transform=\"scale(0.015625)\"/>\n      <path id=\"DejaVuSans-6c\" d=\"M 603 4863 \nL 1178 4863 \nL 1178 0 \nL 603 0 \nL 603 4863 \nz\n\" transform=\"scale(0.015625)\"/>\n      <path id=\"DejaVuSans-61\" d=\"M 2194 1759 \nQ 1497 1759 1228 1600 \nQ 959 1441 959 1056 \nQ 959 750 1161 570 \nQ 1363 391 1709 391 \nQ 2188 391 2477 730 \nQ 2766 1069 2766 1631 \nL 2766 1759 \nL 2194 1759 \nz\nM 3341 1997 \nL 3341 0 \nL 2766 0 \nL 2766 531 \nQ 2569 213 2275 61 \nQ 1981 -91 1556 -91 \nQ 1019 -91 701 211 \nQ 384 513 384 1019 \nQ 384 1609 779 1909 \nQ 1175 2209 1959 2209 \nL 2766 2209 \nL 2766 2266 \nQ 2766 2663 2505 2880 \nQ 2244 3097 1772 3097 \nQ 1472 3097 1187 3025 \nQ 903 2953 641 2809 \nL 641 3341 \nQ 956 3463 1253 3523 \nQ 1550 3584 1831 3584 \nQ 2591 3584 2966 3190 \nQ 3341 2797 3341 1997 \nz\n\" transform=\"scale(0.015625)\"/>\n      <path id=\"DejaVuSans-70\" d=\"M 1159 525 \nL 1159 -1331 \nL 581 -1331 \nL 581 3500 \nL 1159 3500 \nL 1159 2969 \nQ 1341 3281 1617 3432 \nQ 1894 3584 2278 3584 \nQ 2916 3584 3314 3078 \nQ 3713 2572 3713 1747 \nQ 3713 922 3314 415 \nQ 2916 -91 2278 -91 \nQ 1894 -91 1617 61 \nQ 1341 213 1159 525 \nz\nM 3116 1747 \nQ 3116 2381 2855 2742 \nQ 2594 3103 2138 3103 \nQ 1681 3103 1420 2742 \nQ 1159 2381 1159 1747 \nQ 1159 1113 1420 752 \nQ 1681 391 2138 391 \nQ 2594 391 2855 752 \nQ 3116 1113 3116 1747 \nz\n\" transform=\"scale(0.015625)\"/>\n      <path id=\"DejaVuSans-69\" d=\"M 603 3500 \nL 1178 3500 \nL 1178 0 \nL 603 0 \nL 603 3500 \nz\nM 603 4863 \nL 1178 4863 \nL 1178 4134 \nL 603 4134 \nL 603 4863 \nz\n\" transform=\"scale(0.015625)\"/>\n      <path id=\"DejaVuSans-67\" d=\"M 2906 1791 \nQ 2906 2416 2648 2759 \nQ 2391 3103 1925 3103 \nQ 1463 3103 1205 2759 \nQ 947 2416 947 1791 \nQ 947 1169 1205 825 \nQ 1463 481 1925 481 \nQ 2391 481 2648 825 \nQ 2906 1169 2906 1791 \nz\nM 3481 434 \nQ 3481 -459 3084 -895 \nQ 2688 -1331 1869 -1331 \nQ 1566 -1331 1297 -1286 \nQ 1028 -1241 775 -1147 \nL 775 -588 \nQ 1028 -725 1275 -790 \nQ 1522 -856 1778 -856 \nQ 2344 -856 2625 -561 \nQ 2906 -266 2906 331 \nL 2906 616 \nQ 2728 306 2450 153 \nQ 2172 0 1784 0 \nQ 1141 0 747 490 \nQ 353 981 353 1791 \nQ 353 2603 747 3093 \nQ 1141 3584 1784 3584 \nQ 2172 3584 2450 3431 \nQ 2728 3278 2906 2969 \nL 2906 3500 \nL 3481 3500 \nL 3481 434 \nz\n\" transform=\"scale(0.015625)\"/>\n      <path id=\"DejaVuSans-20\" transform=\"scale(0.015625)\"/>\n      <path id=\"DejaVuSans-2c\" d=\"M 750 794 \nL 1409 794 \nL 1409 256 \nL 897 -744 \nL 494 -744 \nL 750 256 \nL 750 794 \nz\n\" transform=\"scale(0.015625)\"/>\n     </defs>\n     <use xlink:href=\"#DejaVuSans-6e\"/>\n     <use xlink:href=\"#DejaVuSans-6f\" x=\"63.378906\"/>\n     <use xlink:href=\"#DejaVuSans-6e\" x=\"124.560547\"/>\n     <use xlink:href=\"#DejaVuSans-2d\" x=\"187.939453\"/>\n     <use xlink:href=\"#DejaVuSans-6f\" x=\"225.898438\"/>\n     <use xlink:href=\"#DejaVuSans-76\" x=\"287.080078\"/>\n     <use xlink:href=\"#DejaVuSans-65\" x=\"346.259766\"/>\n     <use xlink:href=\"#DejaVuSans-72\" x=\"407.783203\"/>\n     <use xlink:href=\"#DejaVuSans-6c\" x=\"448.896484\"/>\n     <use xlink:href=\"#DejaVuSans-61\" x=\"476.679688\"/>\n     <use xlink:href=\"#DejaVuSans-70\" x=\"537.958984\"/>\n     <use xlink:href=\"#DejaVuSans-70\" x=\"601.435547\"/>\n     <use xlink:href=\"#DejaVuSans-69\" x=\"664.912109\"/>\n     <use xlink:href=\"#DejaVuSans-6e\" x=\"692.695312\"/>\n     <use xlink:href=\"#DejaVuSans-67\" x=\"756.074219\"/>\n     <use xlink:href=\"#DejaVuSans-20\" x=\"819.550781\"/>\n     <use xlink:href=\"#DejaVuSans-35\" x=\"851.337891\"/>\n     <use xlink:href=\"#DejaVuSans-2c\" x=\"914.960938\"/>\n     <use xlink:href=\"#DejaVuSans-20\" x=\"946.748047\"/>\n     <use xlink:href=\"#DejaVuSans-33\" x=\"978.535156\"/>\n    </g>\n   </g>\n   <g id=\"legend_1\">\n    <g id=\"patch_8\">\n     <path d=\"M 56.190625 81.49625 \nL 123.567188 81.49625 \nQ 125.567188 81.49625 125.567188 79.49625 \nL 125.567188 29.318125 \nQ 125.567188 27.318125 123.567188 27.318125 \nL 56.190625 27.318125 \nQ 54.190625 27.318125 54.190625 29.318125 \nL 54.190625 79.49625 \nQ 54.190625 81.49625 56.190625 81.49625 \nz\n\" style=\"fill: #ffffff; opacity: 0.8; stroke: #cccccc; stroke-linejoin: miter\"/>\n    </g>\n    <g id=\"patch_9\">\n     <path d=\"M 58.190625 38.916562 \nL 78.190625 38.916562 \nL 78.190625 31.916562 \nL 58.190625 31.916562 \nz\n\" style=\"fill: #1f77b4; opacity: 0.5; stroke: #1f77b4; stroke-linejoin: miter\"/>\n    </g>\n    <g id=\"text_15\">\n     <!-- CI 0.95 -->\n     <g transform=\"translate(86.190625 38.916562) scale(0.1 -0.1)\">\n      <defs>\n       <path id=\"DejaVuSans-43\" d=\"M 4122 4306 \nL 4122 3641 \nQ 3803 3938 3442 4084 \nQ 3081 4231 2675 4231 \nQ 1875 4231 1450 3742 \nQ 1025 3253 1025 2328 \nQ 1025 1406 1450 917 \nQ 1875 428 2675 428 \nQ 3081 428 3442 575 \nQ 3803 722 4122 1019 \nL 4122 359 \nQ 3791 134 3420 21 \nQ 3050 -91 2638 -91 \nQ 1578 -91 968 557 \nQ 359 1206 359 2328 \nQ 359 3453 968 4101 \nQ 1578 4750 2638 4750 \nQ 3056 4750 3426 4639 \nQ 3797 4528 4122 4306 \nz\n\" transform=\"scale(0.015625)\"/>\n       <path id=\"DejaVuSans-49\" d=\"M 628 4666 \nL 1259 4666 \nL 1259 0 \nL 628 0 \nL 628 4666 \nz\n\" transform=\"scale(0.015625)\"/>\n      </defs>\n      <use xlink:href=\"#DejaVuSans-43\"/>\n      <use xlink:href=\"#DejaVuSans-49\" x=\"69.824219\"/>\n      <use xlink:href=\"#DejaVuSans-20\" x=\"99.316406\"/>\n      <use xlink:href=\"#DejaVuSans-30\" x=\"131.103516\"/>\n      <use xlink:href=\"#DejaVuSans-2e\" x=\"194.726562\"/>\n      <use xlink:href=\"#DejaVuSans-39\" x=\"226.513672\"/>\n      <use xlink:href=\"#DejaVuSans-35\" x=\"290.136719\"/>\n     </g>\n    </g>\n    <g id=\"line2d_16\">\n     <path d=\"M 58.190625 51.69625 \nL 68.190625 51.69625 \nL 78.190625 51.69625 \n\" style=\"fill: none; stroke: #1f77b4; stroke-width: 1.5; stroke-linecap: square\"/>\n    </g>\n    <g id=\"text_16\">\n     <!-- $\\hat\\mu$ -->\n     <g transform=\"translate(86.190625 55.19625) scale(0.1 -0.1)\">\n      <defs>\n       <path id=\"DejaVuSans-302\" d=\"M -1831 5119 \nL -1369 5119 \nL -603 3944 \nL -1038 3944 \nL -1600 4709 \nL -2163 3944 \nL -2597 3944 \nL -1831 5119 \nz\nM -1600 3584 \nL -1600 3584 \nz\n\" transform=\"scale(0.015625)\"/>\n       <path id=\"DejaVuSans-Oblique-3bc\" d=\"M -84 -1331 \nL 856 3500 \nL 1434 3500 \nL 1009 1322 \nQ 997 1256 987 1175 \nQ 978 1094 978 1013 \nQ 978 722 1161 565 \nQ 1344 409 1684 409 \nQ 2147 409 2431 671 \nQ 2716 934 2816 1459 \nL 3213 3500 \nL 3788 3500 \nL 3266 809 \nQ 3253 750 3248 706 \nQ 3244 663 3244 628 \nQ 3244 531 3283 486 \nQ 3322 441 3406 441 \nQ 3438 441 3492 456 \nQ 3547 472 3647 513 \nL 3559 50 \nQ 3422 -19 3297 -55 \nQ 3172 -91 3053 -91 \nQ 2847 -91 2730 40 \nQ 2613 172 2613 403 \nQ 2438 153 2195 31 \nQ 1953 -91 1625 -91 \nQ 1334 -91 1117 43 \nQ 900 178 831 397 \nL 494 -1331 \nL -84 -1331 \nz\n\" transform=\"scale(0.015625)\"/>\n      </defs>\n      <use xlink:href=\"#DejaVuSans-302\" transform=\"translate(62.699219 12.015625)\"/>\n      <use xlink:href=\"#DejaVuSans-Oblique-3bc\" transform=\"translate(0 0.828125)\"/>\n     </g>\n    </g>\n    <g id=\"line2d_17\">\n     <path d=\"M 58.190625 68.59625 \nL 68.190625 68.59625 \nL 78.190625 68.59625 \n\" style=\"fill: none; stroke-dasharray: 5.55,2.4; stroke-dashoffset: 0; stroke: #ff0000; stroke-opacity: 0.5; stroke-width: 1.5\"/>\n    </g>\n    <g id=\"text_17\">\n     <!-- $\\frac{\\rho}{1 − \\rho}$ -->\n     <g transform=\"translate(86.190625 72.09625) scale(0.1 -0.1)\">\n      <defs>\n       <path id=\"DejaVuSans-Oblique-3c1\" d=\"M 1203 2875 \nQ 1453 3194 1981 3475 \nQ 2188 3584 2756 3584 \nQ 3394 3584 3694 3078 \nQ 3994 2572 3834 1747 \nQ 3672 922 3175 415 \nQ 2678 -91 2041 -91 \nQ 1656 -91 1409 63 \nQ 1163 213 1044 525 \nL 681 -1331 \nL 103 -1331 \nL 697 1716 \nQ 838 2438 1203 2875 \nz\nM 3238 1747 \nQ 3359 2381 3169 2744 \nQ 2978 3103 2522 3103 \nQ 2066 3103 1734 2744 \nQ 1403 2381 1281 1747 \nQ 1156 1113 1347 750 \nQ 1538 391 1994 391 \nQ 2450 391 2781 750 \nQ 3113 1113 3238 1747 \nz\n\" transform=\"scale(0.015625)\"/>\n       <path id=\"DejaVuSans-2212\" d=\"M 678 2272 \nL 4684 2272 \nL 4684 1741 \nL 678 1741 \nL 678 2272 \nz\n\" transform=\"scale(0.015625)\"/>\n      </defs>\n      <use xlink:href=\"#DejaVuSans-Oblique-3c1\" transform=\"translate(65 58.8) scale(0.7)\"/>\n      <use xlink:href=\"#DejaVuSans-31\" transform=\"translate(0 -38.042187) scale(0.7)\"/>\n      <use xlink:href=\"#DejaVuSans-2212\" transform=\"translate(58.173828 -38.042187) scale(0.7)\"/>\n      <use xlink:href=\"#DejaVuSans-Oblique-3c1\" transform=\"translate(130.463867 -38.042187) scale(0.7)\"/>\n      <path d=\"M 0 19.242188 \nL 0 25.492188 \nL 174.897461 25.492188 \nL 174.897461 19.242188 \nL 0 19.242188 \nz\n\"/>\n     </g>\n    </g>\n   </g>\n  </g>\n </g>\n <defs>\n  <clipPath id=\"p129cb361df\">\n   <rect x=\"49.190625\" y=\"22.318125\" width=\"357.12\" height=\"266.112\"/>\n  </clipPath>\n </defs>\n</svg>\n"
     },
     "metadata": {},
     "output_type": "display_data"
    }
   ],
   "execution_count": 61
  },
  {
   "cell_type": "code",
   "execution_count": null,
   "outputs": [],
   "source": [
    "m: int = 10_000\n",
    "b: int = 5_000\n",
    "\n",
    "span_pkgs: Iterator[tuple[float, int]] = timespan_packages(\n",
    "    mm1_simulation(seed_arr=seed_arr, seed_dep=seed_dep, lmbd=lmbd, mu=mu)\n",
    ")\n",
    "\n",
    "batches: NDArray[...] = overlapping_batches(span_pkgs, b, m)"
   ],
   "metadata": {
    "collapsed": false,
    "ExecuteTime": {
     "start_time": "2023-05-14T13:36:20.179157Z",
     "end_time": "2023-05-14T13:36:20.908270Z"
    }
   }
  },
  {
   "cell_type": "code",
   "execution_count": null,
   "outputs": [],
   "source": [
    "mus: NDArray[float] = np.average(batches[:, :, 1], axis=1, weights=batches[:, :, 0])\n",
    "grand_mean: float = st.fmean(mus)\n",
    "v: float = st.fmean((mus - grand_mean) ** 2)\n",
    "\n",
    "delta: float = sp.stats.t.ppf((1 + gamma) / 2, df=b - 1) * math.sqrt(v / b)"
   ],
   "metadata": {
    "collapsed": false,
    "ExecuteTime": {
     "start_time": "2023-05-14T13:36:20.912150Z",
     "end_time": "2023-05-14T13:36:21.681888Z"
    }
   }
  },
  {
   "cell_type": "code",
   "execution_count": null,
   "outputs": [],
   "source": [
    "mus, grand_mean, delta"
   ],
   "metadata": {
    "collapsed": false,
    "ExecuteTime": {
     "start_time": "2023-05-14T13:36:21.632588Z",
     "end_time": "2023-05-14T13:36:21.682839Z"
    }
   }
  },
  {
   "cell_type": "code",
   "execution_count": null,
   "outputs": [],
   "source": [
    "a: plt.Axes\n",
    "_, a = plt.subplots(1, 1, figsize=(12, 5))\n",
    "\n",
    "a.hlines(\n",
    "    y=mus,\n",
    "    xmin=np.arange(0, b),\n",
    "    xmax=np.arange(0, b) + 1 + m,\n",
    "    colors=[f'C{i}' for i in range(b)],\n",
    "    alpha=0.2,\n",
    ")\n",
    "\n",
    "a.axhspan(\n",
    "    grand_mean - delta,\n",
    "    grand_mean + delta,\n",
    "    alpha=0.5,\n",
    "    color='C0',\n",
    "    label='CI 0.95'\n",
    ")\n",
    "a.axhline(\n",
    "    grand_mean,\n",
    "    label=r'$\\hat\\mu$',\n",
    "    color='C0',\n",
    ")\n",
    "a.axhline(\n",
    "    rho / (1 - rho),\n",
    "    alpha=0.5,\n",
    "    label=r'$\\frac{\\rho}{1 − \\rho}$',\n",
    "    color='red',\n",
    "    linestyle='--',\n",
    ")\n",
    "\n",
    "a.legend(loc='upper right')\n",
    "a.set_title(f'overlapping {seed_arr}, {seed_dep}')\n",
    "a.set_xlabel('samples')\n",
    "a.set_ylabel(r'$\\mathbf{E}\\left[\\frac{\\rm pkgs}{\\rm timespan}\\right]$')\n",
    "pass"
   ],
   "metadata": {
    "collapsed": false,
    "ExecuteTime": {
     "start_time": "2023-05-14T13:36:21.666314Z",
     "end_time": "2023-05-14T13:36:25.630937Z"
    }
   }
  },
  {
   "cell_type": "markdown",
   "source": [
    "---"
   ],
   "metadata": {
    "collapsed": false,
    "ExecuteTime": {
     "start_time": "2023-05-14T00:53:45.404700Z",
     "end_time": "2023-05-14T00:53:45.412565Z"
    }
   },
   "outputs": [],
   "execution_count": 49
  },
  {
   "cell_type": "markdown",
   "source": [
    "Non-overlapping batches\n",
    "$$\n",
    "\\underbrace{Y_1, \\ldots, Y_m}_{B_1},\n",
    "\\underbrace{Y_{m + 1}, \\ldots, Y_{2m}}_{B_2},\n",
    "\\cdots,\n",
    "\\underbrace{Y_{(b - 1) m + 1}, \\ldots, Y_{b m}}_{B_b}\n",
    "$$\n",
    "$$\n",
    "\\hat V_B = \\frac 1 {b - 1} \\sum_i^b (Z_i - \\overline Z_b)^2\n",
    "$$\n",
    "$$\n",
    "\\overline Z_b = \\frac 1 b \\sum_i^b Z_i\n",
    "$$\n",
    "$$\n",
    "\\left[ \\overline Z_b \\pm t_{b - 1, \\frac {1 + \\gamma} 2} \\sqrt{\\frac {\\hat V} b} \\right]_\\gamma\n",
    "$$"
   ],
   "metadata": {
    "collapsed": false
   }
  },
  {
   "cell_type": "code",
   "execution_count": null,
   "outputs": [],
   "source": [
    "m: int = 10_000\n",
    "b: int = 200\n",
    "\n",
    "ws: Iterator[float] = waiting(\n",
    "    mm1_simulation(seed_arr=seed_arr, seed_dep=seed_dep, lmbd=lmbd, mu=mu)\n",
    ")\n",
    "\n",
    "data: NDArray[float] = np.fromiter(ws, float, n)\n",
    "\n",
    "batches: NDArray[...] = np.stack([data[i * m:(i + 1) * m] for i in range(b)])"
   ],
   "metadata": {
    "collapsed": false,
    "ExecuteTime": {
     "start_time": "2023-05-14T13:35:26.375105Z",
     "end_time": "2023-05-14T13:35:43.671175Z"
    }
   }
  },
  {
   "cell_type": "code",
   "execution_count": null,
   "outputs": [],
   "source": [
    "mus: NDArray[float] = np.average(batches, axis=1)\n",
    "grand_mean: float = st.fmean(mus)\n",
    "v: float = np.sum((mus - grand_mean) ** 2) / (b - 1)\n",
    "\n",
    "delta: float = sp.stats.t.ppf((1 + gamma) / 2, df=b - 1) * math.sqrt(v / b)"
   ],
   "metadata": {
    "collapsed": false,
    "ExecuteTime": {
     "start_time": "2023-05-14T13:35:43.674046Z",
     "end_time": "2023-05-14T13:35:43.680440Z"
    }
   }
  },
  {
   "cell_type": "code",
   "execution_count": null,
   "outputs": [],
   "source": [
    "mus, grand_mean, delta"
   ],
   "metadata": {
    "collapsed": false,
    "ExecuteTime": {
     "start_time": "2023-05-14T13:35:43.681688Z",
     "end_time": "2023-05-14T13:35:43.691128Z"
    }
   }
  },
  {
   "cell_type": "code",
   "execution_count": null,
   "outputs": [],
   "source": [
    "a: plt.Axes\n",
    "_, a = plt.subplots(1, 1, figsize=(12, 5))\n",
    "\n",
    "a.hlines(\n",
    "    y=mus,\n",
    "    xmin=np.arange(0, b) * m,\n",
    "    xmax=(np.arange(0, b) + 1) * m,\n",
    "    colors=[f'C{i}' for i in range(b)],\n",
    "    alpha=0.2,\n",
    ")\n",
    "\n",
    "a.axhspan(\n",
    "    grand_mean - delta,\n",
    "    grand_mean + delta,\n",
    "    alpha=0.5,\n",
    "    color='C0',\n",
    "    label='CI 0.95'\n",
    ")\n",
    "a.axhline(\n",
    "    grand_mean,\n",
    "    label=r'$\\hat\\mu$',\n",
    "    color='C0',\n",
    ")\n",
    "a.axhline(\n",
    "    rho ** 2 / (lmbd * (1 - rho)),\n",
    "    alpha=0.5,\n",
    "    label=r'$\\frac{\\rho^2}{\\lambda(1 − \\rho)}$',\n",
    "    color='red',\n",
    "    linestyle='--',\n",
    ")\n",
    "\n",
    "a.legend(loc='upper left')\n",
    "a.set_title(f'non-overlapping {seed_arr}, {seed_dep}')\n",
    "a.set_xlabel('samples')\n",
    "a.set_ylabel(r'$\\mathbf{E}\\left[{\\rm waiting}]\\right]$')\n",
    "pass"
   ],
   "metadata": {
    "collapsed": false,
    "ExecuteTime": {
     "start_time": "2023-05-14T13:35:43.702940Z",
     "end_time": "2023-05-14T13:35:44.107353Z"
    }
   }
  }
 ],
 "metadata": {
  "kernelspec": {
   "display_name": "Python 3",
   "language": "python",
   "name": "python3"
  },
  "language_info": {
   "codemirror_mode": {
    "name": "ipython",
    "version": 2
   },
   "file_extension": ".py",
   "mimetype": "text/x-python",
   "name": "python",
   "nbconvert_exporter": "python",
   "pygments_lexer": "ipython2",
   "version": "2.7.6"
  }
 },
 "nbformat": 4,
 "nbformat_minor": 0
}
