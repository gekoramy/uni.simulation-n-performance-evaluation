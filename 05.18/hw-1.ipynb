{
 "cells": [
  {
   "cell_type": "markdown",
   "id": "38f3fd4e",
   "metadata": {
    "cell_marker": "\"\"\""
   },
   "source": [
    "|        |         |                                @ |\n",
    "|:-------|:--------|---------------------------------:|\n",
    "| Luca   | Mosetti | luca.mosetti-1@studenti.unitn.it |\n",
    "| Shandy | Darma   |   shandy.darma@studenti.unitn.it |"
   ]
  },
  {
   "cell_type": "code",
   "execution_count": null,
   "id": "a9745541",
   "metadata": {},
   "outputs": [],
   "source": [
    "from dataclasses import dataclass\n",
    "from enum import IntEnum, auto\n",
    "from typing import Iterator, SupportsFloat, Iterable\n",
    "from matplotlib_inline.backend_inline import set_matplotlib_formats\n",
    "from numpy.typing import NDArray\n",
    "\n",
    "import doctest\n",
    "import math\n",
    "import heapq as hq\n",
    "import itertools as it\n",
    "import statistics as st\n",
    "import matplotlib.pyplot as plt\n",
    "import more_itertools as mit\n",
    "import numpy as np\n",
    "import scipy as sp\n",
    "import pandas as pd"
   ]
  },
  {
   "cell_type": "code",
   "execution_count": null,
   "id": "5bf10798",
   "metadata": {},
   "outputs": [],
   "source": [
    "set_matplotlib_formats('svg')"
   ]
  },
  {
   "cell_type": "markdown",
   "id": "a14827e0",
   "metadata": {
    "cell_marker": "r\"\"\""
   },
   "source": [
    "# Exercise 1\n",
    "\n",
    "Implement a discrete-event simulator for an M/M/1 queue-server system that manages at least the stated below:\n",
    "\n",
    "- Start of the simulation\n",
    "- End of the simulation\n",
    "- Arrival of a packet\n",
    "- Departure of a packet\n",
    "\n",
    "To do this, create first an ordered queue / list of events where:\n",
    "\n",
    "- Every event always links to the one that immediately follows it in time;\n",
    "- When you insert an event in the queue, you always insert it in order of increasing time; (i.e., say that the queue contains three events: event 1 taking place at time $t_1$ and linking to event 2, which takes place at time $t_2$ and which links to event 3 at time $t_3$; if another event 4 taking place at time $t_4$ is inserted in the queue, and $t_2$ < $t_4$ < $t_3$, then you have to make event 2 link to event 4, and event 4 link to event 3.\n",
    "\n",
    "Finally, implement the system behavior as seen in class, namely:\n",
    "\n",
    "- When a packet arrives: if the server is free seize the server and schedule the departure of the packet; if the server is busy, increase the number of packets in queue;\n",
    "- When a departure event is triggered: if the queue is empty, release the server; otherwise keep the server busy and schedule the next departure event.\n",
    "\n",
    "Use your simulator to do the following:\n",
    "\n",
    "1. Show how the number of packets in the system (those in queue plus those currently in service) varies over time. Compare your results with the theoretical average number of packets in the system in stationary conditions, $\\frac \\rho {1 − \\rho}$, where $\\rho = \\frac \\lambda \\mu$.\n",
    "\n",
    "2. Play with $\\lambda$ and $\\mu$, and discuss how their values impact the convergence of the system to the theoretical value.\n",
    "\n",
    "3. Use your simulator to measure the average time that a packet has to wait in queue, on average, and compare it against the theoretical value, $\\frac {\\rho^2} {\\lambda(1 − \\rho)}$ (_Hint_: you will need to run your simulator several times to do the above. Remember the contents of the class on output analysis.)"
   ]
  },
  {
   "cell_type": "code",
   "execution_count": null,
   "id": "08ede3db",
   "metadata": {},
   "outputs": [],
   "source": [
    "class ET(IntEnum):\n",
    "    START = auto()\n",
    "    ARRIVAL = auto()\n",
    "    DEPARTURE = auto()\n",
    "\n",
    "\n",
    "class LT(IntEnum):\n",
    "    ARRIVAL = auto()\n",
    "    SERVING = auto()\n",
    "    DEPARTURE = auto()\n",
    "\n",
    "\n",
    "@dataclass(order=True, frozen=True, slots=True)\n",
    "class Event:\n",
    "    timestamp: float\n",
    "    event: ET\n",
    "\n",
    "\n",
    "@dataclass(order=True, frozen=True, slots=True)\n",
    "class Log:\n",
    "    timestamp: float\n",
    "    log: LT"
   ]
  },
  {
   "cell_type": "code",
   "execution_count": null,
   "id": "523b755d",
   "metadata": {},
   "outputs": [],
   "source": [
    "seeds: Iterator[int] = mit.sieve(1_000)\n",
    "mit.consume(seeds, 1)"
   ]
  },
  {
   "cell_type": "markdown",
   "id": "faa1dbff",
   "metadata": {
    "cell_marker": "r\"\"\""
   },
   "source": [
    "$$\n",
    "U \\sim \\text{Uniform}(0, 1) \\qquad X = - \\frac {\\log U} \\lambda \\sim \\text{Exp}(\\lambda)\n",
    "$$"
   ]
  },
  {
   "cell_type": "code",
   "execution_count": null,
   "id": "9b690570",
   "metadata": {},
   "outputs": [],
   "source": [
    "def uni_to_exp(lmbd: float, u: float) -> float:\n",
    "    return -math.log(u) / lmbd\n",
    "\n",
    "\n",
    "def mm1_simulation(seed_arr: int, seed_dep: int, lmbd: float, mu: float) -> Iterator[Log]:\n",
    "    \"\"\"\n",
    "    Reproducible simulation of M/M/1 queue-server system\n",
    "\n",
    "    >>> mit.take(100, mm1_simulation(3, 7, 1, 1)) == mit.take(100, mm1_simulation(3, 7, 1, 1))\n",
    "    True\n",
    "\n",
    "    >>> all(a.timestamp <= b.timestamp for a, b in mit.take(100, it.pairwise(mm1_simulation(3, 7, 1, 1))))\n",
    "    True\n",
    "\n",
    "    >>> l1m1 = mit.take(100, mm1_simulation(3, 7, 1, 1))\n",
    "    >>> mit.quantify(l.log == LT.SERVING for l in l1m1) <= mit.quantify(l.log == LT.ARRIVAL for l in l1m1)\n",
    "    True\n",
    "\n",
    "    >>> l1m1 = mit.take(100, mm1_simulation(3, 7, 1, 1))\n",
    "    >>> mit.quantify(l.log == LT.DEPARTURE for l in l1m1) <= mit.quantify(l.log == LT.SERVING for l in l1m1)\n",
    "    True\n",
    "\n",
    "    >>> l1m1 = mit.take(100, mm1_simulation(3, 7, 1, 1))\n",
    "    >>> l1m2 = mit.take(100, mm1_simulation(3, 7, 1, 2))\n",
    "    >>> l1m1_dep_over_arr = mit.quantify(l.log == LT.DEPARTURE for l in l1m1) / mit.quantify(l.log == LT.ARRIVAL for l in l1m1)\n",
    "    >>> l1m2_dep_over_arr = mit.quantify(l.log == LT.DEPARTURE for l in l1m2) / mit.quantify(l.log == LT.ARRIVAL for l in l1m2)\n",
    "    >>> l1m1_dep_over_arr < l1m2_dep_over_arr\n",
    "    True\n",
    "    \"\"\"\n",
    "\n",
    "    rng_arr: np.random.Generator = np.random.default_rng(seed_arr)\n",
    "\n",
    "    def next_arr(timestamp: float) -> Event:\n",
    "        return Event(\n",
    "            timestamp + uni_to_exp(lmbd, rng_arr.random()),\n",
    "            ET.ARRIVAL\n",
    "        )\n",
    "\n",
    "    rng_dep: np.random.Generator = np.random.default_rng(seed_dep)\n",
    "\n",
    "    def next_dep(timestamp: float) -> Event:\n",
    "        return Event(\n",
    "            timestamp + uni_to_exp(mu, rng_dep.random()),\n",
    "            ET.DEPARTURE\n",
    "        )\n",
    "\n",
    "    busy: bool = False\n",
    "    in_queue: int = 0\n",
    "\n",
    "    timeline: list[Event] = [\n",
    "        Event(timestamp=0, event=ET.START),\n",
    "    ]\n",
    "\n",
    "    while True:\n",
    "        e: Event = hq.heappop(timeline)\n",
    "        match e.event:\n",
    "\n",
    "            case ET.START:\n",
    "                hq.heappush(timeline, next_arr(e.timestamp))\n",
    "\n",
    "            case ET.ARRIVAL:\n",
    "                yield Log(e.timestamp, LT.ARRIVAL)\n",
    "                hq.heappush(timeline, next_arr(e.timestamp))\n",
    "\n",
    "                match busy:\n",
    "                    case True:\n",
    "                        in_queue = in_queue + 1\n",
    "                    case False:\n",
    "                        yield Log(e.timestamp, LT.SERVING)\n",
    "                        busy = True\n",
    "                        hq.heappush(timeline, next_dep(e.timestamp))\n",
    "\n",
    "            case ET.DEPARTURE:\n",
    "                yield Log(e.timestamp, LT.DEPARTURE)\n",
    "\n",
    "                match in_queue:\n",
    "                    case 0:\n",
    "                        busy = False\n",
    "                    case _:\n",
    "                        yield Log(e.timestamp, LT.SERVING)\n",
    "                        in_queue = in_queue - 1\n",
    "                        hq.heappush(timeline, next_dep(e.timestamp))\n",
    "\n",
    "\n",
    "def timespan_packets(xs: Iterator[Log]) -> Iterator[tuple[float, int]]:\n",
    "    \"\"\"\n",
    "    From sequence of logs to sequence of (timespan, packets in the system)\n",
    "\n",
    "    >>> list(timespan_packets([Log(10, LT.ARRIVAL), Log(15, LT.ARRIVAL), Log(25, LT.DEPARTURE), Log(30, LT.DEPARTURE)]))\n",
    "    [(10, 0), (5, 1), (10, 2), (5, 1)]\n",
    "    \"\"\"\n",
    "\n",
    "    def packets(acc: int, l: LT.ARRIVAL | LT.DEPARTURE) -> int:\n",
    "        match l:\n",
    "            case LT.ARRIVAL:\n",
    "                return acc + 1\n",
    "            case LT.DEPARTURE:\n",
    "                return acc - 1\n",
    "\n",
    "    xs1, xs2 = it.tee((l for l in xs if l.log in [LT.ARRIVAL, LT.DEPARTURE]), 2)\n",
    "\n",
    "    spans: Iterator[float] = (t2 - t1 for t1, t2 in it.pairwise(mit.prepend(0, (l.timestamp for l in xs1))))\n",
    "    pckts: Iterator[int] = it.accumulate((l.log for l in xs2), packets, initial=0)\n",
    "    return zip(spans, pckts)\n",
    "\n",
    "\n",
    "def waiting(xs: Iterator[Log]) -> Iterator[float]:\n",
    "    \"\"\"\n",
    "    From sequence of logs to sequence of waiting times\n",
    "\n",
    "    >>> list(waiting([Log(10, LT.ARRIVAL), Log(10, LT.SERVING), Log(15, LT.ARRIVAL), Log(20, LT.DEPARTURE), Log(20, LT.SERVING), Log(15, LT.ARRIVAL)]))\n",
    "    [0, 5]\n",
    "    \"\"\"\n",
    "    xs1, xs2 = it.tee(xs, 2)\n",
    "    eas = (l.timestamp for l in xs1 if LT.ARRIVAL == l.log)\n",
    "    ess = (l.timestamp for l in xs2 if LT.SERVING == l.log)\n",
    "    return (s - a for a, s in zip(eas, ess))\n",
    "\n",
    "\n",
    "def overlapping_batches(xs: Iterator[SupportsFloat | tuple[SupportsFloat, ...]], b: int, m: int) -> NDArray[...]:\n",
    "    \"\"\"\n",
    "    From sequence of tuple to overlapping batches NDArray\n",
    "\n",
    "    >>> overlapping_batches([(1.5, 1), (2.5, 2), (3.5, 3), (4.5, 4)], 2, 2)\n",
    "    array([[[1.5, 1. ],\n",
    "            [2.5, 2. ]],\n",
    "    <BLANKLINE>\n",
    "           [[2.5, 2. ],\n",
    "            [3.5, 3. ]]])\n",
    "    \"\"\"\n",
    "    vs: NDArray[...] = np.asarray(mit.take(m + b, xs))\n",
    "    return np.stack([vs[i:(m + i)] for i in range(b)])\n",
    "\n",
    "\n",
    "def non_overlapping_batches(xs: Iterator[SupportsFloat | tuple[SupportsFloat, ...]], b: int, m: int) -> NDArray[...]:\n",
    "    \"\"\"\n",
    "    From sequence of tuple to non-overlapping batches NDArray\n",
    "\n",
    "    >>> non_overlapping_batches([(1.5, 1), (2.5, 2), (3.5, 3), (4.5, 4), (5.5, 5)], 2, 2)\n",
    "    array([[[1.5, 1. ],\n",
    "            [2.5, 2. ]],\n",
    "    <BLANKLINE>\n",
    "           [[3.5, 3. ],\n",
    "            [4.5, 4. ]]])\n",
    "    \"\"\"\n",
    "    vs: NDArray[...] = np.asarray(mit.take(m * b, xs))\n",
    "    return np.stack([vs[i * m:(i + 1) * m] for i in range(b)])\n",
    "\n",
    "\n",
    "def gamma() -> float:\n",
    "    return 0.95\n",
    "\n",
    "\n",
    "def populate(\n",
    "        a: plt.Axes,\n",
    "        b: int,\n",
    "        m: int,\n",
    "        mus: NDArray[float],\n",
    "        grand_mean: float,\n",
    "        seeds: tuple[int, ...],\n",
    "        lmbd: float,\n",
    "        mu: float,\n",
    "        delta: float,\n",
    "        overlapping: bool,\n",
    "        expected: float,\n",
    "        expected_label: str,\n",
    "        y_label: str,\n",
    ") -> None:\n",
    "    match overlapping:\n",
    "        case True:\n",
    "            a.hlines(\n",
    "                y=mus,\n",
    "                xmin=np.arange(0, b),\n",
    "                xmax=np.arange(0, b) + m,\n",
    "                colors=[f'C{i}' for i in range(b)],\n",
    "                alpha=0.2,\n",
    "            )\n",
    "        case False:\n",
    "            a.hlines(\n",
    "                y=mus,\n",
    "                xmin=np.arange(0, b) * m,\n",
    "                xmax=(np.arange(0, b) + 1) * m,\n",
    "                colors=[f'C{i}' for i in range(b)],\n",
    "                alpha=0.2,\n",
    "            )\n",
    "\n",
    "    a.axhspan(\n",
    "        grand_mean - delta,\n",
    "        grand_mean + delta,\n",
    "        alpha=0.5,\n",
    "        color='C0',\n",
    "        label=f'CI {gamma()}'\n",
    "    )\n",
    "    a.axhline(\n",
    "        grand_mean,\n",
    "        label=r'$\\hat\\theta$',\n",
    "        color='C0',\n",
    "    )\n",
    "\n",
    "    a.axhline(\n",
    "        expected,\n",
    "        alpha=0.5,\n",
    "        label=expected_label,\n",
    "        color='red',\n",
    "        linestyle='--',\n",
    "    )\n",
    "\n",
    "    a.legend(loc='upper left')\n",
    "    a.set_title(f'${seeds} \\\\vdash \\\\lambda={lmbd}, \\\\mu={mu}$ // {\"\" if overlapping else \"non-\"}overlapping $m = {m}, b = {b}$')\n",
    "    a.set_xlabel('samples')\n",
    "    a.set_ylabel(y_label)\n",
    "\n",
    "\n",
    "def autocorr(a: plt.Axes, xs: Iterable[float]) -> None:\n",
    "    pd.plotting.autocorrelation_plot(pd.Series(xs), a)"
   ]
  },
  {
   "cell_type": "code",
   "execution_count": null,
   "id": "27f47769",
   "metadata": {},
   "outputs": [],
   "source": [
    "doctest.testmod()"
   ]
  },
  {
   "cell_type": "markdown",
   "id": "9f05ba58",
   "metadata": {
    "cell_marker": "\"\"\""
   },
   "source": [
    "## Packets in the system over time\n",
    "\n",
    "First, we see how the number of packets are changing over time"
   ]
  },
  {
   "cell_type": "code",
   "execution_count": null,
   "id": "bea8faeb",
   "metadata": {},
   "outputs": [],
   "source": [
    "seed_arr: int = next(seeds)\n",
    "seed_dep: int = next(seeds)\n",
    "\n",
    "lmbd: float = 3\n",
    "mu: float = 10\n",
    "rho: float = lmbd / mu"
   ]
  },
  {
   "cell_type": "code",
   "execution_count": null,
   "id": "cce33e8d",
   "metadata": {},
   "outputs": [],
   "source": [
    "span_pckts: Iterator[tuple[float, int]] = timespan_packets(\n",
    "    mm1_simulation(seed_arr=seed_arr, seed_dep=seed_dep, lmbd=lmbd, mu=mu)\n",
    ")\n",
    "\n",
    "n: int = 500\n",
    "samples: NDArray[...] = np.asarray(mit.take(n, span_pckts))"
   ]
  },
  {
   "cell_type": "code",
   "execution_count": null,
   "id": "79c9eedd",
   "metadata": {},
   "outputs": [],
   "source": [
    "a: plt.Axes\n",
    "_, a = plt.subplots(1, 1, figsize=(12, 5))\n",
    "\n",
    "a.stairs(\n",
    "    samples[:, 1],\n",
    "    edges=np.cumsum(np.append(0, samples[:, 0])),\n",
    "    alpha=0.95,\n",
    "    label=f'in system',\n",
    "    hatch='\\\\' * 5,\n",
    ")\n",
    "\n",
    "a.axhline(\n",
    "    rho / (1 - rho),\n",
    "    alpha=0.5,\n",
    "    label=r'$\\frac{\\rho}{1 − \\rho}$',\n",
    "    color='red',\n",
    "    linestyle='--',\n",
    ")\n",
    "\n",
    "a.legend(loc='upper left')\n",
    "a.set_xlabel('time')\n",
    "a.set_ylabel('packets')\n",
    "a.set_yticks(range(4))\n",
    "a.set_title(f'${(seed_arr, seed_dep)} \\\\vdash \\\\lambda = {lmbd}, \\\\mu = {mu}$ // {n} samples')\n",
    "pass"
   ]
  },
  {
   "cell_type": "markdown",
   "id": "bf92f6c3",
   "metadata": {
    "cell_marker": "r\"\"\""
   },
   "source": [
    "As we can see, with these $\\mu, \\lambda$ the number of packets change between 1 and 2 packets, with occasional spike to 3 packets and rare spike up to 6 packets\n",
    "\n",
    "Next, we're going to measure the mean of the number of packets over time.\n",
    "To calculate this metric, we use the following techniques:\n",
    "\n",
    "- non-overlapping batches\n",
    "- overlapping batches\n",
    "\n",
    "With batch means we need to decide the:\n",
    "\n",
    "- $b$\n",
    "- $m$\n",
    "\n",
    "In both cases, the higher, the better.\n",
    "\n",
    "$m$ must be at least twice as the autocorrelation cut-off lag.\n",
    "Thus, we need to plot the autocorrelation of our metric and choose $m$ accordingly."
   ]
  },
  {
   "cell_type": "markdown",
   "id": "ac347e07",
   "metadata": {
    "cell_marker": "r\"\"\""
   },
   "source": [
    "### Non-overlapping batches\n",
    "$$\n",
    "\\underbrace{Y_1\\, \\cdots\\, Y_m}_{B_1}\\,\n",
    "\\underbrace{Y_{m + 1}\\, \\cdots\\, Y_{2m}}_{B_2}\\,\n",
    "\\cdots\\,\n",
    "\\underbrace{Y_{(b - 1) m + 1}\\, \\cdots\\, Y_{b m}}_{B_b}\n",
    "$$\n",
    "$$\n",
    "\\hat V_B = \\frac 1 {b - 1} \\sum_i^b (Z_i - \\overline Z_b)^2\n",
    "\\qquad\n",
    "\\overline Z_b = \\frac 1 b \\sum_i^b Z_i\n",
    "$$\n",
    "$$\n",
    "\\left[ \\overline Z_b \\pm t_{b - 1, \\frac {1 + \\gamma} 2} \\sqrt{\\frac {\\hat V} b} \\right]_\\gamma\n",
    "$$"
   ]
  },
  {
   "cell_type": "code",
   "execution_count": null,
   "id": "c8f6f8b2",
   "metadata": {},
   "outputs": [],
   "source": [
    "span_pckts: Iterator[tuple[float, int]] = timespan_packets(\n",
    "    mm1_simulation(seed_arr=seed_arr, seed_dep=seed_dep, lmbd=lmbd, mu=mu)\n",
    ")\n",
    "\n",
    "n: int = 500\n",
    "samples: NDArray[...] = np.asarray(mit.take(n, span_pckts))\n",
    "\n",
    "a: plt.Axes\n",
    "_, a = plt.subplots(1, 1, figsize=(12, 5))\n",
    "autocorr(a, samples[:, 1] / samples[:, 0])\n",
    "pass"
   ]
  },
  {
   "cell_type": "code",
   "execution_count": null,
   "id": "bb74597e",
   "metadata": {},
   "outputs": [],
   "source": [
    "m: int = 10_000\n",
    "b: int = 200\n",
    "\n",
    "span_pckts: Iterator[tuple[float, int]] = timespan_packets(\n",
    "    mm1_simulation(seed_arr=seed_arr, seed_dep=seed_dep, lmbd=lmbd, mu=mu)\n",
    ")\n",
    "\n",
    "batches: NDArray[...] = non_overlapping_batches(span_pckts, b, m)"
   ]
  },
  {
   "cell_type": "code",
   "execution_count": null,
   "id": "67b21b90",
   "metadata": {},
   "outputs": [],
   "source": [
    "mus: NDArray[float] = np.average(batches[:, :, 1], axis=1, weights=batches[:, :, 0])\n",
    "mus"
   ]
  },
  {
   "cell_type": "code",
   "execution_count": null,
   "id": "ad361a98",
   "metadata": {},
   "outputs": [],
   "source": [
    "grand_mean: float = st.fmean(mus)\n",
    "v: float = np.sum((mus - grand_mean) ** 2) / (b - 1)\n",
    "delta: float = sp.stats.t.ppf((1 + gamma()) / 2, df=b - 1) * math.sqrt(v / b)\n",
    "grand_mean, delta"
   ]
  },
  {
   "cell_type": "code",
   "execution_count": null,
   "id": "3fcd085b",
   "metadata": {},
   "outputs": [],
   "source": [
    "a: plt.Axes\n",
    "_, a = plt.subplots(1, 1, figsize=(12, 5))\n",
    "autocorr(a, mus)\n",
    "pass"
   ]
  },
  {
   "cell_type": "code",
   "execution_count": null,
   "id": "36309620",
   "metadata": {},
   "outputs": [],
   "source": [
    "a: plt.Axes\n",
    "_, a = plt.subplots(1, 1, figsize=(12, 5))\n",
    "\n",
    "populate(a, b, m, mus, grand_mean, (seed_arr, seed_dep), lmbd, mu, delta, False, rho / (1 - rho), r'$\\frac{\\rho}{1 − \\rho}$', r'$\\mathbf{E}\\left[\\frac{\\rm packets}{\\rm timespan}\\right]$')\n",
    "pass"
   ]
  },
  {
   "cell_type": "markdown",
   "id": "971e3e57",
   "metadata": {
    "cell_marker": "\"\"\""
   },
   "source": [
    "By using the non-overlapping batch method, the estimator CI contains the theoretical mean"
   ]
  },
  {
   "cell_type": "markdown",
   "id": "ca736ec6",
   "metadata": {
    "cell_marker": "r\"\"\""
   },
   "source": [
    "### Overlapping batches\n",
    "\n",
    "$$\n",
    "\\begin{matrix}\n",
    "B_1: & Y_1 & Y_2 & Y_3 & Y_4 & \\cdots & Y_m \\\\\n",
    "B_2: & \\  & Y_2 & Y_3 & Y_4 & \\cdots & Y_m & Y_{m + 1} \\\\\n",
    "B_3: & \\  &  \\  & Y_3 & Y_4 & \\cdots & Y_m & Y_{m + 1} & Y_{m + 2} \\\\\n",
    "B_4: & \\  &  \\  &  \\  & Y_4 & \\cdots & Y_m & Y_{m + 1} & Y_{m + 2} & Y_{m + 3} \\\\\n",
    "B_i: & \\  &  \\  &  \\  &  \\  & \\vdots & \\vdots & \\vdots & \\vdots & \\vdots & \\vdots\n",
    "\\end{matrix}\n",
    "$$\n",
    "$$\n",
    "\\hat V_O = \\frac 1 {n - m + 1} \\sum_i^{n - m + 1} (Z_i - \\overline Z_b)^2\n",
    "\\qquad\n",
    "\\overline Z_b = \\frac 1 b \\sum_i^b Z_i\n",
    "$$\n",
    "$$\n",
    "\\left[ \\overline Z_b \\pm t_{b - 1, \\frac {1 + \\gamma} 2} \\sqrt{\\frac {\\hat V} b} \\right]_\\gamma\n",
    "$$"
   ]
  },
  {
   "cell_type": "code",
   "execution_count": null,
   "id": "0ab04482",
   "metadata": {},
   "outputs": [],
   "source": [
    "m: int = 10_000\n",
    "b: int = 5_000\n",
    "\n",
    "span_pckts: Iterator[tuple[float, int]] = timespan_packets(\n",
    "    mm1_simulation(seed_arr=seed_arr, seed_dep=seed_dep, lmbd=lmbd, mu=mu)\n",
    ")\n",
    "\n",
    "batches: NDArray[...] = overlapping_batches(span_pckts, b, m)"
   ]
  },
  {
   "cell_type": "code",
   "execution_count": null,
   "id": "b8feebe3",
   "metadata": {},
   "outputs": [],
   "source": [
    "mus: NDArray[float] = np.average(batches[:, :, 1], axis=1, weights=batches[:, :, 0])\n",
    "mus"
   ]
  },
  {
   "cell_type": "code",
   "execution_count": null,
   "id": "e52ed09b",
   "metadata": {},
   "outputs": [],
   "source": [
    "grand_mean: float = st.fmean(mus)\n",
    "v: float = st.fmean((mus - grand_mean) ** 2)\n",
    "delta: float = sp.stats.t.ppf((1 + gamma()) / 2, df=b - 1) * math.sqrt(v / b)\n",
    "grand_mean, delta"
   ]
  },
  {
   "cell_type": "code",
   "execution_count": null,
   "id": "13a16bb3",
   "metadata": {},
   "outputs": [],
   "source": [
    "a: plt.Axes\n",
    "_, a = plt.subplots(1, 1, figsize=(12, 5))\n",
    "autocorr(a, mus)\n",
    "pass"
   ]
  },
  {
   "cell_type": "code",
   "execution_count": null,
   "id": "a5c8c67f",
   "metadata": {},
   "outputs": [],
   "source": [
    "a: plt.Axes\n",
    "_, a = plt.subplots(1, 1, figsize=(12, 5))\n",
    "\n",
    "populate(a, b, m, mus, grand_mean, (seed_arr, seed_dep), lmbd, mu, delta, True, rho / (1 - rho), r'$\\frac{\\rho}{1 − \\rho}$', r'$\\mathbf{E}\\left[\\frac{\\rm packets}{\\rm timespan}\\right]$')\n",
    "pass"
   ]
  },
  {
   "cell_type": "markdown",
   "id": "3fe3b56a",
   "metadata": {
    "cell_marker": "\"\"\""
   },
   "source": [
    "Compared to the previous method, with the overlapping batch method, we see that the estimator CI does not contain the theoretical mean value"
   ]
  },
  {
   "cell_type": "markdown",
   "id": "bf165c3f",
   "metadata": {
    "cell_marker": "\"\"\""
   },
   "source": [
    "---"
   ]
  },
  {
   "cell_type": "markdown",
   "id": "7f7292d3",
   "metadata": {
    "cell_marker": "r\"\"\""
   },
   "source": [
    "$$\n",
    "\\lambda > \\mu\n",
    "$$"
   ]
  },
  {
   "cell_type": "code",
   "execution_count": null,
   "id": "d24211c0",
   "metadata": {},
   "outputs": [],
   "source": [
    "seed_arr: int = next(seeds)\n",
    "seed_dep: int = next(seeds)\n",
    "\n",
    "lmbd: float = 1.11\n",
    "mu: float = 1"
   ]
  },
  {
   "cell_type": "code",
   "execution_count": null,
   "id": "9dfce636",
   "metadata": {},
   "outputs": [],
   "source": [
    "span_pckts: Iterator[tuple[float, int]] = timespan_packets(\n",
    "    mm1_simulation(seed_arr=seed_arr, seed_dep=seed_dep, lmbd=lmbd, mu=mu)\n",
    ")\n",
    "\n",
    "n: int = 2_000\n",
    "samples: NDArray[...] = np.asarray(mit.take(n, span_pckts))"
   ]
  },
  {
   "cell_type": "code",
   "execution_count": null,
   "id": "38a2ae14",
   "metadata": {},
   "outputs": [],
   "source": [
    "a: plt.Axes\n",
    "_, a = plt.subplots(1, 1, figsize=(12, 5))\n",
    "\n",
    "a.stairs(\n",
    "    samples[:, 1],\n",
    "    edges=np.cumsum(np.append(0, samples[:, 0])),\n",
    "    alpha=0.95,\n",
    "    label=f'in system',\n",
    "    hatch='\\\\' * 5,\n",
    ")\n",
    "\n",
    "a.legend(loc='upper left')\n",
    "a.set_xlabel('time')\n",
    "a.set_ylabel('packets')\n",
    "a.set_title(f'$({seed_arr}, {seed_dep}) \\\\vdash \\\\lambda = {lmbd}, \\\\mu = {mu}$ // {n} samples')\n",
    "pass"
   ]
  },
  {
   "cell_type": "markdown",
   "id": "25a14c23",
   "metadata": {
    "cell_marker": "\"\"\""
   },
   "source": [
    "The number of arriving packets is more than the server could handle.\n",
    "This can be shown by observing the plot above, which grows uncontrollably.\n",
    "It is apparent that there is no point in estimating the mean."
   ]
  },
  {
   "cell_type": "markdown",
   "id": "86519d1e",
   "metadata": {
    "cell_marker": "r\"\"\""
   },
   "source": [
    "$$\n",
    "\\lambda \\to \\mu\n",
    "$$"
   ]
  },
  {
   "cell_type": "code",
   "execution_count": null,
   "id": "82c54281",
   "metadata": {},
   "outputs": [],
   "source": [
    "seed_arr: int = next(seeds)\n",
    "seed_dep: int = next(seeds)\n",
    "\n",
    "lmbd: float = 99\n",
    "mu: float = 100\n",
    "rho: float = lmbd / mu"
   ]
  },
  {
   "cell_type": "code",
   "execution_count": null,
   "id": "347e6a2c",
   "metadata": {},
   "outputs": [],
   "source": [
    "span_pckts: Iterator[tuple[float, int]] = timespan_packets(\n",
    "    mm1_simulation(seed_arr=seed_arr, seed_dep=seed_dep, lmbd=lmbd, mu=mu)\n",
    ")\n",
    "\n",
    "samples: NDArray[...] = np.asarray(mit.take(10_000, span_pckts))\n",
    "\n",
    "a: plt.Axes\n",
    "_, a = plt.subplots(1, 1, figsize=(12, 5))\n",
    "autocorr(a, samples[:, 1] / samples[:, 0])\n",
    "pass"
   ]
  },
  {
   "cell_type": "code",
   "execution_count": null,
   "id": "355cd4c3",
   "metadata": {},
   "outputs": [],
   "source": [
    "m: int = 10_000\n",
    "b: int = 100\n",
    "\n",
    "span_pckts: Iterator[tuple[float, int]] = timespan_packets(\n",
    "    mm1_simulation(seed_arr=seed_arr, seed_dep=seed_dep, lmbd=lmbd, mu=mu)\n",
    ")\n",
    "\n",
    "batches: NDArray[...] = non_overlapping_batches(span_pckts, b, m)"
   ]
  },
  {
   "cell_type": "code",
   "execution_count": null,
   "id": "aa057b12",
   "metadata": {},
   "outputs": [],
   "source": [
    "mus: NDArray[float] = np.average(batches[:, :, 1], axis=1, weights=batches[:, :, 0])\n",
    "mus"
   ]
  },
  {
   "cell_type": "code",
   "execution_count": null,
   "id": "16da54d7",
   "metadata": {},
   "outputs": [],
   "source": [
    "grand_mean: float = st.fmean(mus)\n",
    "v: float = np.sum((mus - grand_mean) ** 2) / (b - 1)\n",
    "delta: float = sp.stats.t.ppf((1 + gamma()) / 2, df=b - 1) * math.sqrt(v / b)\n",
    "grand_mean, delta"
   ]
  },
  {
   "cell_type": "code",
   "execution_count": null,
   "id": "6bc0db91",
   "metadata": {},
   "outputs": [],
   "source": [
    "a: plt.Axes\n",
    "_, a = plt.subplots(1, 1, figsize=(12, 5))\n",
    "autocorr(a, mus)\n",
    "pass"
   ]
  },
  {
   "cell_type": "code",
   "execution_count": null,
   "id": "a151966a",
   "metadata": {},
   "outputs": [],
   "source": [
    "_, a = plt.subplots(1, 1, figsize=(12, 5))\n",
    "populate(a, b, m, mus, grand_mean, (seed_arr, seed_dep), lmbd, mu, delta, False, rho / (1 - rho), r'$\\frac{\\rho}{1 - \\rho}$', r'$\\mathbf{E}\\left[\\frac{\\rm packets}{\\rm timespan}\\right]$')\n",
    "pass"
   ]
  },
  {
   "cell_type": "markdown",
   "id": "b00e489d",
   "metadata": {
    "cell_marker": "r\"\"\""
   },
   "source": [
    "With $\\lambda$ very close to $\\mu$ the initialization bias is very present, and the estimation is unreliable."
   ]
  },
  {
   "cell_type": "markdown",
   "id": "206eee26",
   "metadata": {
    "cell_marker": "r\"\"\""
   },
   "source": [
    "$$\n",
    "\\lambda < \\mu\n",
    "$$"
   ]
  },
  {
   "cell_type": "code",
   "execution_count": null,
   "id": "20ea1014",
   "metadata": {},
   "outputs": [],
   "source": [
    "seed_arr: int = next(seeds)\n",
    "seed_dep: int = next(seeds)\n",
    "\n",
    "lmbd: float = 90\n",
    "mu: float = 100\n",
    "rho: float = lmbd / mu"
   ]
  },
  {
   "cell_type": "code",
   "execution_count": null,
   "id": "2c109b2a",
   "metadata": {},
   "outputs": [],
   "source": [
    "span_pckts: Iterator[tuple[float, int]] = timespan_packets(\n",
    "    mm1_simulation(seed_arr=seed_arr, seed_dep=seed_dep, lmbd=lmbd, mu=mu)\n",
    ")\n",
    "\n",
    "samples: NDArray[...] = np.asarray(mit.take(10_000, span_pckts))\n",
    "\n",
    "a: plt.Axes\n",
    "_, a = plt.subplots(1, 1, figsize=(12, 5))\n",
    "autocorr(a, samples[:, 1] / samples[:, 0])\n",
    "pass"
   ]
  },
  {
   "cell_type": "code",
   "execution_count": null,
   "id": "07f66940",
   "metadata": {},
   "outputs": [],
   "source": [
    "m: int = 10_000\n",
    "b: int = 50\n",
    "\n",
    "span_pckts: Iterator[tuple[float, int]] = timespan_packets(\n",
    "    mm1_simulation(seed_arr=seed_arr, seed_dep=seed_dep, lmbd=lmbd, mu=mu)\n",
    ")\n",
    "\n",
    "batches: NDArray[...] = non_overlapping_batches(span_pckts, b, m)"
   ]
  },
  {
   "cell_type": "code",
   "execution_count": null,
   "id": "5fd37f22",
   "metadata": {},
   "outputs": [],
   "source": [
    "mus: NDArray[float] = np.average(batches[:, :, 1], axis=1, weights=batches[:, :, 0])\n",
    "mus"
   ]
  },
  {
   "cell_type": "code",
   "execution_count": null,
   "id": "0f2a4231",
   "metadata": {},
   "outputs": [],
   "source": [
    "grand_mean: float = st.fmean(mus)\n",
    "v: float = np.sum((mus - grand_mean) ** 2) / (b - 1)\n",
    "delta: float = sp.stats.t.ppf((1 + gamma()) / 2, df=b - 1) * math.sqrt(v / b)\n",
    "grand_mean, delta"
   ]
  },
  {
   "cell_type": "code",
   "execution_count": null,
   "id": "e464e9a7",
   "metadata": {},
   "outputs": [],
   "source": [
    "a: plt.Axes\n",
    "_, a = plt.subplots(1, 1, figsize=(12, 5))\n",
    "autocorr(a, mus)"
   ]
  },
  {
   "cell_type": "code",
   "execution_count": null,
   "id": "ab321835",
   "metadata": {},
   "outputs": [],
   "source": [
    "a: plt.Axes\n",
    "_, a = plt.subplots(1, 1, figsize=(12, 5))\n",
    "\n",
    "populate(a, b, m, mus, grand_mean, (seed_arr, seed_dep), lmbd, mu, delta, False, rho / (1 - rho), r'$\\frac{\\rho}{1 − \\rho}$', r'$\\mathbf{E}\\left[\\frac{\\rm packets}{\\rm timespan}\\right]$')\n",
    "pass"
   ]
  },
  {
   "cell_type": "markdown",
   "id": "80df0e56",
   "metadata": {
    "cell_marker": "\"\"\""
   },
   "source": [
    "As opposed to previous measurement, we can see that the measured mean and its CI cover the theoretical mean.\n",
    "The initialization bias impacts less against the measurement of the mean."
   ]
  },
  {
   "cell_type": "markdown",
   "id": "bd4aa9e5",
   "metadata": {
    "cell_marker": "\"\"\""
   },
   "source": [
    "## Waiting times\n",
    "\n",
    "In this section, we will measure the time it takes for a packet to go from queue to be processed"
   ]
  },
  {
   "cell_type": "code",
   "execution_count": null,
   "id": "680b1a00",
   "metadata": {},
   "outputs": [],
   "source": [
    "seed_arr: int = next(seeds)\n",
    "seed_dep: int = next(seeds)\n",
    "\n",
    "lmbd: float = 7\n",
    "mu: float = 10\n",
    "rho: float = lmbd / mu"
   ]
  },
  {
   "cell_type": "code",
   "execution_count": null,
   "id": "bc51420b",
   "metadata": {},
   "outputs": [],
   "source": [
    "ws: Iterator[float] = waiting(\n",
    "    mm1_simulation(seed_arr=seed_arr, seed_dep=seed_dep, lmbd=lmbd, mu=mu)\n",
    ")\n",
    "\n",
    "n: int = 500\n",
    "samples: NDArray[float] = np.asarray(mit.take(n, ws))"
   ]
  },
  {
   "cell_type": "code",
   "execution_count": null,
   "id": "f90d7358",
   "metadata": {},
   "outputs": [],
   "source": [
    "a: plt.Axes\n",
    "_, a = plt.subplots(1, 1, figsize=(12, 5))\n",
    "\n",
    "a.bar(\n",
    "    range(len(samples)),\n",
    "    samples,\n",
    "    label=f'awaited',\n",
    ")\n",
    "\n",
    "a.axhline(\n",
    "    rho ** 2 / (lmbd * (1 - rho)),\n",
    "    label=r'$\\frac{\\rho^2}{\\lambda(1 − \\rho)}$',\n",
    "    color='red',\n",
    "    linestyle='--',\n",
    ")\n",
    "\n",
    "a.legend(loc='upper left')\n",
    "a.set_xlabel('packets')\n",
    "a.set_ylabel('time')\n",
    "a.set_title(f'$({seed_arr}, {seed_dep}) \\\\vdash \\\\lambda={lmbd}, \\\\mu={mu}$')\n",
    "pass"
   ]
  },
  {
   "cell_type": "markdown",
   "id": "4fed264a",
   "metadata": {
    "cell_marker": "\"\"\""
   },
   "source": [
    "We can see that the value changes quiet variably. Then, we are going to measure the mean of this measurement."
   ]
  },
  {
   "cell_type": "markdown",
   "id": "284fa9dd",
   "metadata": {
    "cell_marker": "\"\"\""
   },
   "source": [
    "### Non-overlapping batches"
   ]
  },
  {
   "cell_type": "code",
   "execution_count": null,
   "id": "0641e654",
   "metadata": {},
   "outputs": [],
   "source": [
    "ws: Iterator[float] = waiting(\n",
    "    mm1_simulation(seed_arr=seed_arr, seed_dep=seed_dep, lmbd=lmbd, mu=mu)\n",
    ")\n",
    "\n",
    "mit.consume(ws, 1_000_000)\n",
    "\n",
    "n: int = 10_000\n",
    "samples: NDArray[float] = np.asarray(mit.take(n, ws))"
   ]
  },
  {
   "cell_type": "code",
   "execution_count": null,
   "id": "67bdadec",
   "metadata": {},
   "outputs": [],
   "source": [
    "a: plt.Axes\n",
    "_, a = plt.subplots(1, 1, figsize=(12, 5))\n",
    "autocorr(a, samples)\n",
    "pass"
   ]
  },
  {
   "cell_type": "code",
   "execution_count": null,
   "id": "a02cf47c",
   "metadata": {},
   "outputs": [],
   "source": [
    "m: int = 10_000\n",
    "b: int = 200\n",
    "\n",
    "ws: Iterator[float] = waiting(\n",
    "    mm1_simulation(seed_arr=seed_arr, seed_dep=seed_dep, lmbd=lmbd, mu=mu)\n",
    ")\n",
    "\n",
    "batches: NDArray[...] = non_overlapping_batches(ws, b, m)"
   ]
  },
  {
   "cell_type": "code",
   "execution_count": null,
   "id": "711433f2",
   "metadata": {},
   "outputs": [],
   "source": [
    "mus: NDArray[float] = np.average(batches, axis=1)\n",
    "mus"
   ]
  },
  {
   "cell_type": "code",
   "execution_count": null,
   "id": "73ccb751",
   "metadata": {},
   "outputs": [],
   "source": [
    "grand_mean: float = st.fmean(mus)\n",
    "v: float = np.sum((mus - grand_mean) ** 2) / (b - 1)\n",
    "delta: float = sp.stats.t.ppf((1 + gamma()) / 2, df=b - 1) * math.sqrt(v / b)\n",
    "grand_mean, delta"
   ]
  },
  {
   "cell_type": "code",
   "execution_count": null,
   "id": "a2048c0d",
   "metadata": {},
   "outputs": [],
   "source": [
    "a: plt.Axes\n",
    "_, a = plt.subplots(1, 1, figsize=(12, 5))\n",
    "autocorr(a, mus)"
   ]
  },
  {
   "cell_type": "code",
   "execution_count": null,
   "id": "592e9656",
   "metadata": {},
   "outputs": [],
   "source": [
    "a: plt.Axes\n",
    "_, a = plt.subplots(1, 1, figsize=(12, 5))\n",
    "\n",
    "populate(a, b, m, mus, grand_mean, (seed_arr, seed_dep), lmbd, mu, delta, False, rho ** 2 / (lmbd * (1 - rho)), r'$\\frac{\\rho^2}{\\lambda(1 − \\rho)}$', r'$\\mathbf{E}\\left[{\\rm awaited}\\right]$')\n",
    "pass"
   ]
  },
  {
   "cell_type": "markdown",
   "id": "c60792cd",
   "metadata": {
    "cell_marker": "\"\"\""
   },
   "source": [
    "We can see that using the non-overlapping technique on a very long run, the estimation CI contains the theoretical value."
   ]
  },
  {
   "cell_type": "markdown",
   "id": "c5c93d24",
   "metadata": {
    "cell_marker": "\"\"\""
   },
   "source": [
    "### Batches means over IRs\n",
    "\n",
    "In this section we have implemented our personal intuition of \"batches means over IRs\""
   ]
  },
  {
   "cell_type": "code",
   "execution_count": null,
   "id": "7c0f493b",
   "metadata": {},
   "outputs": [],
   "source": [
    "m: int = 5_000\n",
    "b: int = 200\n",
    "ss: list[tuple[int, int]] = [\n",
    "    (next(seeds), next(seeds))\n",
    "    for _ in range(10)\n",
    "]"
   ]
  },
  {
   "cell_type": "code",
   "execution_count": null,
   "id": "5862d650",
   "metadata": {},
   "outputs": [],
   "source": [
    "batchess: list[NDArray[...]] = [\n",
    "    non_overlapping_batches(ws, b, m)\n",
    "    for (seed_arr, seed_dep) in ss\n",
    "    for simulation in [mm1_simulation(seed_arr=seed_arr, seed_dep=seed_dep, lmbd=lmbd, mu=mu)]\n",
    "    for ws in [waiting(simulation)]\n",
    "]\n",
    "\n",
    "batches: NDArray[...] = np.row_stack(batchess)"
   ]
  },
  {
   "cell_type": "code",
   "execution_count": null,
   "id": "25dad9ca",
   "metadata": {},
   "outputs": [],
   "source": [
    "mus: NDArray[float] = np.average(batches, axis=1)\n",
    "mus"
   ]
  },
  {
   "cell_type": "code",
   "execution_count": null,
   "id": "fd563e04",
   "metadata": {},
   "outputs": [],
   "source": [
    "grand_mean: float = st.fmean(mus)\n",
    "v: float = np.sum((mus - grand_mean) ** 2) / (len(ss) * (b - 1))\n",
    "delta: float = sp.stats.t.ppf((1 + gamma()) / 2, df=b - 1) * math.sqrt(v / (b * len(ss)))\n",
    "grand_mean, delta"
   ]
  },
  {
   "cell_type": "code",
   "execution_count": null,
   "id": "a91dad5e",
   "metadata": {},
   "outputs": [],
   "source": [
    "a: plt.Axes\n",
    "_, a = plt.subplots(1, 1, figsize=(12, 5))\n",
    "autocorr(a, mus)\n",
    "pass"
   ]
  },
  {
   "cell_type": "code",
   "execution_count": null,
   "id": "c4bc95b5",
   "metadata": {},
   "outputs": [],
   "source": [
    "a: plt.Axes\n",
    "detail: plt.Axes\n",
    "_, (a, detail)= plt.subplots(2, 1, figsize=(12, 5 * 2))\n",
    "\n",
    "for r in range(len(ss)):\n",
    "    a.hlines(\n",
    "        y=mus[(r * b):(r + 1) * b],\n",
    "        xmin=np.arange(0, b) * m,\n",
    "        xmax=(np.arange(0, b) + 1) * m,\n",
    "        colors=[f'C{i}' for i in range(b)],\n",
    "        alpha=0.2,\n",
    "    )\n",
    "\n",
    "for ax in [a, detail]:\n",
    "    ax.axhspan(\n",
    "        grand_mean - delta,\n",
    "        grand_mean + delta,\n",
    "        alpha=0.5,\n",
    "        color='C0',\n",
    "        label=f'CI {gamma()}'\n",
    "    )\n",
    "    ax.axhline(\n",
    "        grand_mean,\n",
    "        label=r'$\\hat\\theta$',\n",
    "        color='C0',\n",
    "    )\n",
    "\n",
    "    ax.axhline(\n",
    "        rho ** 2 / (lmbd * (1 - rho)),\n",
    "        alpha=0.5,\n",
    "        label=r'$\\frac{\\rho^2}{\\lambda(1 − \\rho)}$',\n",
    "        color='red',\n",
    "        linestyle='--',\n",
    "    )\n",
    "\n",
    "detail.set_xticks([])\n",
    "\n",
    "a.legend(loc='upper left')\n",
    "a.set_xlabel('samples')\n",
    "a.set_ylabel(r'$\\mathbf{E}\\left[{\\rm awaited}\\right]$')\n",
    "a.set_title(f'${ss[0]} \\\\ldots {ss[-1]} \\\\vdash \\\\lambda={lmbd}, \\\\mu={mu}$ // non-overlapping $m = {m}, b = {b}, r = {len(ss)}$')\n",
    "\n",
    "pass"
   ]
  },
  {
   "cell_type": "markdown",
   "id": "3f3e66ef",
   "metadata": {
    "cell_marker": "\"\"\""
   },
   "source": [
    "With this technique, the CI is very small, but it still contains the theoretical value"
   ]
  }
 ],
 "metadata": {
  "jupytext": {
   "cell_markers": "\"\"\"",
   "cell_metadata_filter": "-all",
   "main_language": "python"
  }
 },
 "nbformat": 4,
 "nbformat_minor": 5
}
